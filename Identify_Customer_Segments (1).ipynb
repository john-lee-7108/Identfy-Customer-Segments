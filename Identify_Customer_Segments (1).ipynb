{
 "cells": [
  {
   "cell_type": "markdown",
   "metadata": {},
   "source": [
    "# Project: Identify Customer Segments\n",
    "\n",
    "In this project, you will apply unsupervised learning techniques to identify segments of the population that form the core customer base for a mail-order sales company in Germany. These segments can then be used to direct marketing campaigns towards audiences that will have the highest expected rate of returns. The data that you will use has been provided by our partners at Bertelsmann Arvato Analytics, and represents a real-life data science task.\n",
    "\n",
    "This notebook will help you complete this task by providing a framework within which you will perform your analysis steps. In each step of the project, you will see some text describing the subtask that you will perform, followed by one or more code cells for you to complete your work. **Feel free to add additional code and markdown cells as you go along so that you can explore everything in precise chunks.** The code cells provided in the base template will outline only the major tasks, and will usually not be enough to cover all of the minor tasks that comprise it.\n",
    "\n",
    "It should be noted that while there will be precise guidelines on how you should handle certain tasks in the project, there will also be places where an exact specification is not provided. **There will be times in the project where you will need to make and justify your own decisions on how to treat the data.** These are places where there may not be only one way to handle the data. In real-life tasks, there may be many valid ways to approach an analysis task. One of the most important things you can do is clearly document your approach so that other scientists can understand the decisions you've made.\n",
    "\n",
    "At the end of most sections, there will be a Markdown cell labeled **Discussion**. In these cells, you will report your findings for the completed section, as well as document the decisions that you made in your approach to each subtask. **Your project will be evaluated not just on the code used to complete the tasks outlined, but also your communication about your observations and conclusions at each stage.**"
   ]
  },
  {
   "cell_type": "code",
   "execution_count": 1,
   "metadata": {},
   "outputs": [
    {
     "data": {
      "text/plain": [
       "'\\nImport note: The classroom currently uses sklearn version 0.19.\\nIf you need to use an imputer, it is available in sklearn.preprocessing.Imputer,\\ninstead of sklearn.impute as in newer versions of sklearn.\\n'"
      ]
     },
     "execution_count": 1,
     "metadata": {},
     "output_type": "execute_result"
    }
   ],
   "source": [
    "# import libraries here; add more as necessary\n",
    "import numpy as np\n",
    "import pandas as pd\n",
    "import matplotlib.pyplot as plt\n",
    "import seaborn as sns\n",
    "from sklearn.preprocessing import Imputer, StandardScaler\n",
    "from sklearn.decomposition import PCA\n",
    "from sklearn.cluster import KMeans, MiniBatchKMeans\n",
    "\n",
    "# magic word for producing visualizations in notebook\n",
    "%matplotlib inline\n",
    "\n",
    "'''\n",
    "Import note: The classroom currently uses sklearn version 0.19.\n",
    "If you need to use an imputer, it is available in sklearn.preprocessing.Imputer,\n",
    "instead of sklearn.impute as in newer versions of sklearn.\n",
    "'''"
   ]
  },
  {
   "cell_type": "markdown",
   "metadata": {},
   "source": [
    "### Step 0: Load the Data\n",
    "\n",
    "There are four files associated with this project (not including this one):\n",
    "\n",
    "- `Udacity_AZDIAS_Subset.csv`: Demographics data for the general population of Germany; 891211 persons (rows) x 85 features (columns).\n",
    "- `Udacity_CUSTOMERS_Subset.csv`: Demographics data for customers of a mail-order company; 191652 persons (rows) x 85 features (columns).\n",
    "- `Data_Dictionary.md`: Detailed information file about the features in the provided datasets.\n",
    "- `AZDIAS_Feature_Summary.csv`: Summary of feature attributes for demographics data; 85 features (rows) x 4 columns\n",
    "\n",
    "Each row of the demographics files represents a single person, but also includes information outside of individuals, including information about their household, building, and neighborhood. You will use this information to cluster the general population into groups with similar demographic properties. Then, you will see how the people in the customers dataset fit into those created clusters. The hope here is that certain clusters are over-represented in the customers data, as compared to the general population; those over-represented clusters will be assumed to be part of the core userbase. This information can then be used for further applications, such as targeting for a marketing campaign.\n",
    "\n",
    "To start off with, load in the demographics data for the general population into a pandas DataFrame, and do the same for the feature attributes summary. Note for all of the `.csv` data files in this project: they're semicolon (`;`) delimited, so you'll need an additional argument in your [`read_csv()`](https://pandas.pydata.org/pandas-docs/stable/generated/pandas.read_csv.html) call to read in the data properly. Also, considering the size of the main dataset, it may take some time for it to load completely.\n",
    "\n",
    "Once the dataset is loaded, it's recommended that you take a little bit of time just browsing the general structure of the dataset and feature summary file. You'll be getting deep into the innards of the cleaning in the first major step of the project, so gaining some general familiarity can help you get your bearings."
   ]
  },
  {
   "cell_type": "code",
   "execution_count": 2,
   "metadata": {},
   "outputs": [],
   "source": [
    "# Load in the general demographics data.\n",
    "azdias = pd.read_csv('Udacity_AZDIAS_Subset.csv', sep=';')\n",
    "\n",
    "# Load in the feature summary file.\n",
    "feat_info = pd.read_csv('AZDIAS_Feature_Summary.csv', sep=';')"
   ]
  },
  {
   "cell_type": "code",
   "execution_count": 3,
   "metadata": {},
   "outputs": [
    {
     "data": {
      "text/plain": [
       "(891221, 85)"
      ]
     },
     "execution_count": 3,
     "metadata": {},
     "output_type": "execute_result"
    }
   ],
   "source": [
    "# Check the structure of the data after it's loaded (e.g. print the number of\n",
    "# rows and columns, print the first few rows).\n",
    "azdias.shape"
   ]
  },
  {
   "cell_type": "code",
   "execution_count": 4,
   "metadata": {},
   "outputs": [
    {
     "data": {
      "text/html": [
       "<div>\n",
       "<style scoped>\n",
       "    .dataframe tbody tr th:only-of-type {\n",
       "        vertical-align: middle;\n",
       "    }\n",
       "\n",
       "    .dataframe tbody tr th {\n",
       "        vertical-align: top;\n",
       "    }\n",
       "\n",
       "    .dataframe thead th {\n",
       "        text-align: right;\n",
       "    }\n",
       "</style>\n",
       "<table border=\"1\" class=\"dataframe\">\n",
       "  <thead>\n",
       "    <tr style=\"text-align: right;\">\n",
       "      <th></th>\n",
       "      <th>AGER_TYP</th>\n",
       "      <th>ALTERSKATEGORIE_GROB</th>\n",
       "      <th>ANREDE_KZ</th>\n",
       "      <th>CJT_GESAMTTYP</th>\n",
       "      <th>FINANZ_MINIMALIST</th>\n",
       "      <th>FINANZ_SPARER</th>\n",
       "      <th>FINANZ_VORSORGER</th>\n",
       "      <th>FINANZ_ANLEGER</th>\n",
       "      <th>FINANZ_UNAUFFAELLIGER</th>\n",
       "      <th>FINANZ_HAUSBAUER</th>\n",
       "      <th>...</th>\n",
       "      <th>PLZ8_ANTG1</th>\n",
       "      <th>PLZ8_ANTG2</th>\n",
       "      <th>PLZ8_ANTG3</th>\n",
       "      <th>PLZ8_ANTG4</th>\n",
       "      <th>PLZ8_BAUMAX</th>\n",
       "      <th>PLZ8_HHZ</th>\n",
       "      <th>PLZ8_GBZ</th>\n",
       "      <th>ARBEIT</th>\n",
       "      <th>ORTSGR_KLS9</th>\n",
       "      <th>RELAT_AB</th>\n",
       "    </tr>\n",
       "  </thead>\n",
       "  <tbody>\n",
       "    <tr>\n",
       "      <th>0</th>\n",
       "      <td>-1</td>\n",
       "      <td>2</td>\n",
       "      <td>1</td>\n",
       "      <td>2.0</td>\n",
       "      <td>3</td>\n",
       "      <td>4</td>\n",
       "      <td>3</td>\n",
       "      <td>5</td>\n",
       "      <td>5</td>\n",
       "      <td>3</td>\n",
       "      <td>...</td>\n",
       "      <td>NaN</td>\n",
       "      <td>NaN</td>\n",
       "      <td>NaN</td>\n",
       "      <td>NaN</td>\n",
       "      <td>NaN</td>\n",
       "      <td>NaN</td>\n",
       "      <td>NaN</td>\n",
       "      <td>NaN</td>\n",
       "      <td>NaN</td>\n",
       "      <td>NaN</td>\n",
       "    </tr>\n",
       "    <tr>\n",
       "      <th>1</th>\n",
       "      <td>-1</td>\n",
       "      <td>1</td>\n",
       "      <td>2</td>\n",
       "      <td>5.0</td>\n",
       "      <td>1</td>\n",
       "      <td>5</td>\n",
       "      <td>2</td>\n",
       "      <td>5</td>\n",
       "      <td>4</td>\n",
       "      <td>5</td>\n",
       "      <td>...</td>\n",
       "      <td>2.0</td>\n",
       "      <td>3.0</td>\n",
       "      <td>2.0</td>\n",
       "      <td>1.0</td>\n",
       "      <td>1.0</td>\n",
       "      <td>5.0</td>\n",
       "      <td>4.0</td>\n",
       "      <td>3.0</td>\n",
       "      <td>5.0</td>\n",
       "      <td>4.0</td>\n",
       "    </tr>\n",
       "    <tr>\n",
       "      <th>2</th>\n",
       "      <td>-1</td>\n",
       "      <td>3</td>\n",
       "      <td>2</td>\n",
       "      <td>3.0</td>\n",
       "      <td>1</td>\n",
       "      <td>4</td>\n",
       "      <td>1</td>\n",
       "      <td>2</td>\n",
       "      <td>3</td>\n",
       "      <td>5</td>\n",
       "      <td>...</td>\n",
       "      <td>3.0</td>\n",
       "      <td>3.0</td>\n",
       "      <td>1.0</td>\n",
       "      <td>0.0</td>\n",
       "      <td>1.0</td>\n",
       "      <td>4.0</td>\n",
       "      <td>4.0</td>\n",
       "      <td>3.0</td>\n",
       "      <td>5.0</td>\n",
       "      <td>2.0</td>\n",
       "    </tr>\n",
       "    <tr>\n",
       "      <th>3</th>\n",
       "      <td>2</td>\n",
       "      <td>4</td>\n",
       "      <td>2</td>\n",
       "      <td>2.0</td>\n",
       "      <td>4</td>\n",
       "      <td>2</td>\n",
       "      <td>5</td>\n",
       "      <td>2</td>\n",
       "      <td>1</td>\n",
       "      <td>2</td>\n",
       "      <td>...</td>\n",
       "      <td>2.0</td>\n",
       "      <td>2.0</td>\n",
       "      <td>2.0</td>\n",
       "      <td>0.0</td>\n",
       "      <td>1.0</td>\n",
       "      <td>3.0</td>\n",
       "      <td>4.0</td>\n",
       "      <td>2.0</td>\n",
       "      <td>3.0</td>\n",
       "      <td>3.0</td>\n",
       "    </tr>\n",
       "    <tr>\n",
       "      <th>4</th>\n",
       "      <td>-1</td>\n",
       "      <td>3</td>\n",
       "      <td>1</td>\n",
       "      <td>5.0</td>\n",
       "      <td>4</td>\n",
       "      <td>3</td>\n",
       "      <td>4</td>\n",
       "      <td>1</td>\n",
       "      <td>3</td>\n",
       "      <td>2</td>\n",
       "      <td>...</td>\n",
       "      <td>2.0</td>\n",
       "      <td>4.0</td>\n",
       "      <td>2.0</td>\n",
       "      <td>1.0</td>\n",
       "      <td>2.0</td>\n",
       "      <td>3.0</td>\n",
       "      <td>3.0</td>\n",
       "      <td>4.0</td>\n",
       "      <td>6.0</td>\n",
       "      <td>5.0</td>\n",
       "    </tr>\n",
       "  </tbody>\n",
       "</table>\n",
       "<p>5 rows × 85 columns</p>\n",
       "</div>"
      ],
      "text/plain": [
       "   AGER_TYP  ALTERSKATEGORIE_GROB  ANREDE_KZ  CJT_GESAMTTYP  \\\n",
       "0        -1                     2          1            2.0   \n",
       "1        -1                     1          2            5.0   \n",
       "2        -1                     3          2            3.0   \n",
       "3         2                     4          2            2.0   \n",
       "4        -1                     3          1            5.0   \n",
       "\n",
       "   FINANZ_MINIMALIST  FINANZ_SPARER  FINANZ_VORSORGER  FINANZ_ANLEGER  \\\n",
       "0                  3              4                 3               5   \n",
       "1                  1              5                 2               5   \n",
       "2                  1              4                 1               2   \n",
       "3                  4              2                 5               2   \n",
       "4                  4              3                 4               1   \n",
       "\n",
       "   FINANZ_UNAUFFAELLIGER  FINANZ_HAUSBAUER    ...     PLZ8_ANTG1  PLZ8_ANTG2  \\\n",
       "0                      5                 3    ...            NaN         NaN   \n",
       "1                      4                 5    ...            2.0         3.0   \n",
       "2                      3                 5    ...            3.0         3.0   \n",
       "3                      1                 2    ...            2.0         2.0   \n",
       "4                      3                 2    ...            2.0         4.0   \n",
       "\n",
       "   PLZ8_ANTG3  PLZ8_ANTG4  PLZ8_BAUMAX  PLZ8_HHZ  PLZ8_GBZ  ARBEIT  \\\n",
       "0         NaN         NaN          NaN       NaN       NaN     NaN   \n",
       "1         2.0         1.0          1.0       5.0       4.0     3.0   \n",
       "2         1.0         0.0          1.0       4.0       4.0     3.0   \n",
       "3         2.0         0.0          1.0       3.0       4.0     2.0   \n",
       "4         2.0         1.0          2.0       3.0       3.0     4.0   \n",
       "\n",
       "   ORTSGR_KLS9  RELAT_AB  \n",
       "0          NaN       NaN  \n",
       "1          5.0       4.0  \n",
       "2          5.0       2.0  \n",
       "3          3.0       3.0  \n",
       "4          6.0       5.0  \n",
       "\n",
       "[5 rows x 85 columns]"
      ]
     },
     "execution_count": 4,
     "metadata": {},
     "output_type": "execute_result"
    }
   ],
   "source": [
    "azdias.head()"
   ]
  },
  {
   "cell_type": "code",
   "execution_count": 5,
   "metadata": {},
   "outputs": [
    {
     "name": "stdout",
     "output_type": "stream",
     "text": [
      "<class 'pandas.core.frame.DataFrame'>\n",
      "RangeIndex: 891221 entries, 0 to 891220\n",
      "Data columns (total 85 columns):\n",
      "AGER_TYP                 891221 non-null int64\n",
      "ALTERSKATEGORIE_GROB     891221 non-null int64\n",
      "ANREDE_KZ                891221 non-null int64\n",
      "CJT_GESAMTTYP            886367 non-null float64\n",
      "FINANZ_MINIMALIST        891221 non-null int64\n",
      "FINANZ_SPARER            891221 non-null int64\n",
      "FINANZ_VORSORGER         891221 non-null int64\n",
      "FINANZ_ANLEGER           891221 non-null int64\n",
      "FINANZ_UNAUFFAELLIGER    891221 non-null int64\n",
      "FINANZ_HAUSBAUER         891221 non-null int64\n",
      "FINANZTYP                891221 non-null int64\n",
      "GEBURTSJAHR              891221 non-null int64\n",
      "GFK_URLAUBERTYP          886367 non-null float64\n",
      "GREEN_AVANTGARDE         891221 non-null int64\n",
      "HEALTH_TYP               891221 non-null int64\n",
      "LP_LEBENSPHASE_FEIN      886367 non-null float64\n",
      "LP_LEBENSPHASE_GROB      886367 non-null float64\n",
      "LP_FAMILIE_FEIN          886367 non-null float64\n",
      "LP_FAMILIE_GROB          886367 non-null float64\n",
      "LP_STATUS_FEIN           886367 non-null float64\n",
      "LP_STATUS_GROB           886367 non-null float64\n",
      "NATIONALITAET_KZ         891221 non-null int64\n",
      "PRAEGENDE_JUGENDJAHRE    891221 non-null int64\n",
      "RETOURTYP_BK_S           886367 non-null float64\n",
      "SEMIO_SOZ                891221 non-null int64\n",
      "SEMIO_FAM                891221 non-null int64\n",
      "SEMIO_REL                891221 non-null int64\n",
      "SEMIO_MAT                891221 non-null int64\n",
      "SEMIO_VERT               891221 non-null int64\n",
      "SEMIO_LUST               891221 non-null int64\n",
      "SEMIO_ERL                891221 non-null int64\n",
      "SEMIO_KULT               891221 non-null int64\n",
      "SEMIO_RAT                891221 non-null int64\n",
      "SEMIO_KRIT               891221 non-null int64\n",
      "SEMIO_DOM                891221 non-null int64\n",
      "SEMIO_KAEM               891221 non-null int64\n",
      "SEMIO_PFLICHT            891221 non-null int64\n",
      "SEMIO_TRADV              891221 non-null int64\n",
      "SHOPPER_TYP              891221 non-null int64\n",
      "SOHO_KZ                  817722 non-null float64\n",
      "TITEL_KZ                 817722 non-null float64\n",
      "VERS_TYP                 891221 non-null int64\n",
      "ZABEOTYP                 891221 non-null int64\n",
      "ALTER_HH                 817722 non-null float64\n",
      "ANZ_PERSONEN             817722 non-null float64\n",
      "ANZ_TITEL                817722 non-null float64\n",
      "HH_EINKOMMEN_SCORE       872873 non-null float64\n",
      "KK_KUNDENTYP             306609 non-null float64\n",
      "W_KEIT_KIND_HH           783619 non-null float64\n",
      "WOHNDAUER_2008           817722 non-null float64\n",
      "ANZ_HAUSHALTE_AKTIV      798073 non-null float64\n",
      "ANZ_HH_TITEL             794213 non-null float64\n",
      "GEBAEUDETYP              798073 non-null float64\n",
      "KONSUMNAEHE              817252 non-null float64\n",
      "MIN_GEBAEUDEJAHR         798073 non-null float64\n",
      "OST_WEST_KZ              798073 non-null object\n",
      "WOHNLAGE                 798073 non-null float64\n",
      "CAMEO_DEUG_2015          792242 non-null object\n",
      "CAMEO_DEU_2015           792242 non-null object\n",
      "CAMEO_INTL_2015          792242 non-null object\n",
      "KBA05_ANTG1              757897 non-null float64\n",
      "KBA05_ANTG2              757897 non-null float64\n",
      "KBA05_ANTG3              757897 non-null float64\n",
      "KBA05_ANTG4              757897 non-null float64\n",
      "KBA05_BAUMAX             757897 non-null float64\n",
      "KBA05_GBZ                757897 non-null float64\n",
      "BALLRAUM                 797481 non-null float64\n",
      "EWDICHTE                 797481 non-null float64\n",
      "INNENSTADT               797481 non-null float64\n",
      "GEBAEUDETYP_RASTER       798066 non-null float64\n",
      "KKK                      770025 non-null float64\n",
      "MOBI_REGIO               757897 non-null float64\n",
      "ONLINE_AFFINITAET        886367 non-null float64\n",
      "REGIOTYP                 770025 non-null float64\n",
      "KBA13_ANZAHL_PKW         785421 non-null float64\n",
      "PLZ8_ANTG1               774706 non-null float64\n",
      "PLZ8_ANTG2               774706 non-null float64\n",
      "PLZ8_ANTG3               774706 non-null float64\n",
      "PLZ8_ANTG4               774706 non-null float64\n",
      "PLZ8_BAUMAX              774706 non-null float64\n",
      "PLZ8_HHZ                 774706 non-null float64\n",
      "PLZ8_GBZ                 774706 non-null float64\n",
      "ARBEIT                   794005 non-null float64\n",
      "ORTSGR_KLS9              794005 non-null float64\n",
      "RELAT_AB                 794005 non-null float64\n",
      "dtypes: float64(49), int64(32), object(4)\n",
      "memory usage: 578.0+ MB\n"
     ]
    }
   ],
   "source": [
    "azdias.info()"
   ]
  },
  {
   "cell_type": "code",
   "execution_count": 6,
   "metadata": {},
   "outputs": [
    {
     "data": {
      "text/plain": [
       "(85, 4)"
      ]
     },
     "execution_count": 6,
     "metadata": {},
     "output_type": "execute_result"
    }
   ],
   "source": [
    "feat_info.shape"
   ]
  },
  {
   "cell_type": "code",
   "execution_count": 7,
   "metadata": {},
   "outputs": [
    {
     "data": {
      "text/html": [
       "<div>\n",
       "<style scoped>\n",
       "    .dataframe tbody tr th:only-of-type {\n",
       "        vertical-align: middle;\n",
       "    }\n",
       "\n",
       "    .dataframe tbody tr th {\n",
       "        vertical-align: top;\n",
       "    }\n",
       "\n",
       "    .dataframe thead th {\n",
       "        text-align: right;\n",
       "    }\n",
       "</style>\n",
       "<table border=\"1\" class=\"dataframe\">\n",
       "  <thead>\n",
       "    <tr style=\"text-align: right;\">\n",
       "      <th></th>\n",
       "      <th>attribute</th>\n",
       "      <th>information_level</th>\n",
       "      <th>type</th>\n",
       "      <th>missing_or_unknown</th>\n",
       "    </tr>\n",
       "  </thead>\n",
       "  <tbody>\n",
       "    <tr>\n",
       "      <th>0</th>\n",
       "      <td>AGER_TYP</td>\n",
       "      <td>person</td>\n",
       "      <td>categorical</td>\n",
       "      <td>[-1,0]</td>\n",
       "    </tr>\n",
       "    <tr>\n",
       "      <th>1</th>\n",
       "      <td>ALTERSKATEGORIE_GROB</td>\n",
       "      <td>person</td>\n",
       "      <td>ordinal</td>\n",
       "      <td>[-1,0,9]</td>\n",
       "    </tr>\n",
       "    <tr>\n",
       "      <th>2</th>\n",
       "      <td>ANREDE_KZ</td>\n",
       "      <td>person</td>\n",
       "      <td>categorical</td>\n",
       "      <td>[-1,0]</td>\n",
       "    </tr>\n",
       "    <tr>\n",
       "      <th>3</th>\n",
       "      <td>CJT_GESAMTTYP</td>\n",
       "      <td>person</td>\n",
       "      <td>categorical</td>\n",
       "      <td>[0]</td>\n",
       "    </tr>\n",
       "    <tr>\n",
       "      <th>4</th>\n",
       "      <td>FINANZ_MINIMALIST</td>\n",
       "      <td>person</td>\n",
       "      <td>ordinal</td>\n",
       "      <td>[-1]</td>\n",
       "    </tr>\n",
       "  </tbody>\n",
       "</table>\n",
       "</div>"
      ],
      "text/plain": [
       "              attribute information_level         type missing_or_unknown\n",
       "0              AGER_TYP            person  categorical             [-1,0]\n",
       "1  ALTERSKATEGORIE_GROB            person      ordinal           [-1,0,9]\n",
       "2             ANREDE_KZ            person  categorical             [-1,0]\n",
       "3         CJT_GESAMTTYP            person  categorical                [0]\n",
       "4     FINANZ_MINIMALIST            person      ordinal               [-1]"
      ]
     },
     "execution_count": 7,
     "metadata": {},
     "output_type": "execute_result"
    }
   ],
   "source": [
    "feat_info.head()"
   ]
  },
  {
   "cell_type": "code",
   "execution_count": 8,
   "metadata": {},
   "outputs": [
    {
     "name": "stdout",
     "output_type": "stream",
     "text": [
      "<class 'pandas.core.frame.DataFrame'>\n",
      "RangeIndex: 85 entries, 0 to 84\n",
      "Data columns (total 4 columns):\n",
      "attribute             85 non-null object\n",
      "information_level     85 non-null object\n",
      "type                  85 non-null object\n",
      "missing_or_unknown    85 non-null object\n",
      "dtypes: object(4)\n",
      "memory usage: 2.7+ KB\n"
     ]
    }
   ],
   "source": [
    "feat_info.info()"
   ]
  },
  {
   "cell_type": "markdown",
   "metadata": {},
   "source": [
    "> **Tip**: Add additional cells to keep everything in reasonably-sized chunks! Keyboard shortcut `esc --> a` (press escape to enter command mode, then press the 'A' key) adds a new cell before the active cell, and `esc --> b` adds a new cell after the active cell. If you need to convert an active cell to a markdown cell, use `esc --> m` and to convert to a code cell, use `esc --> y`. \n",
    "\n",
    "## Step 1: Preprocessing\n",
    "\n",
    "### Step 1.1: Assess Missing Data\n",
    "\n",
    "The feature summary file contains a summary of properties for each demographics data column. You will use this file to help you make cleaning decisions during this stage of the project. First of all, you should assess the demographics data in terms of missing data. Pay attention to the following points as you perform your analysis, and take notes on what you observe. Make sure that you fill in the **Discussion** cell with your findings and decisions at the end of each step that has one!\n",
    "\n",
    "#### Step 1.1.1: Convert Missing Value Codes to NaNs\n",
    "The fourth column of the feature attributes summary (loaded in above as `feat_info`) documents the codes from the data dictionary that indicate missing or unknown data. While the file encodes this as a list (e.g. `[-1,0]`), this will get read in as a string object. You'll need to do a little bit of parsing to make use of it to identify and clean the data. Convert data that matches a 'missing' or 'unknown' value code into a numpy NaN value. You might want to see how much data takes on a 'missing' or 'unknown' code, and how much data is naturally missing, as a point of interest.\n",
    "\n",
    "**As one more reminder, you are encouraged to add additional cells to break up your analysis into manageable chunks.**"
   ]
  },
  {
   "cell_type": "code",
   "execution_count": 9,
   "metadata": {},
   "outputs": [
    {
     "data": {
      "text/plain": [
       "4896838"
      ]
     },
     "execution_count": 9,
     "metadata": {},
     "output_type": "execute_result"
    }
   ],
   "source": [
    "# Total number of 'missing' or 'unknown' values to start.\n",
    "azdias.isna().sum().sum()"
   ]
  },
  {
   "cell_type": "code",
   "execution_count": 10,
   "metadata": {},
   "outputs": [],
   "source": [
    "# First, we need to convert the string object into a list, I am going to use a function for that.\n",
    "def convert_string(string):\n",
    "    ''' \n",
    "    Input = string object\n",
    "    Output = list of 'unknown' or 'missing'\n",
    "    '''\n",
    "    new_list = []\n",
    "    \n",
    "    # takes the string object and splits it in ','\n",
    "    string = string[1:-1].split(',')\n",
    "    \n",
    "    # for every value in the list, convert it into integer, if possible and append into new_list\n",
    "    for i in string:\n",
    "        try:\n",
    "            new_list.append(int(i))\n",
    "        except:\n",
    "            new_list.append(i)\n",
    "    return new_list"
   ]
  },
  {
   "cell_type": "code",
   "execution_count": 11,
   "metadata": {},
   "outputs": [],
   "source": [
    "# Applying the function.\n",
    "feat_info['NaN_tags'] = feat_info['missing_or_unknown'].apply(convert_string)"
   ]
  },
  {
   "cell_type": "code",
   "execution_count": 12,
   "metadata": {},
   "outputs": [
    {
     "data": {
      "text/html": [
       "<div>\n",
       "<style scoped>\n",
       "    .dataframe tbody tr th:only-of-type {\n",
       "        vertical-align: middle;\n",
       "    }\n",
       "\n",
       "    .dataframe tbody tr th {\n",
       "        vertical-align: top;\n",
       "    }\n",
       "\n",
       "    .dataframe thead th {\n",
       "        text-align: right;\n",
       "    }\n",
       "</style>\n",
       "<table border=\"1\" class=\"dataframe\">\n",
       "  <thead>\n",
       "    <tr style=\"text-align: right;\">\n",
       "      <th></th>\n",
       "      <th>attribute</th>\n",
       "      <th>information_level</th>\n",
       "      <th>type</th>\n",
       "      <th>missing_or_unknown</th>\n",
       "      <th>NaN_tags</th>\n",
       "    </tr>\n",
       "  </thead>\n",
       "  <tbody>\n",
       "    <tr>\n",
       "      <th>34</th>\n",
       "      <td>SEMIO_DOM</td>\n",
       "      <td>person</td>\n",
       "      <td>ordinal</td>\n",
       "      <td>[-1,9]</td>\n",
       "      <td>[-1, 9]</td>\n",
       "    </tr>\n",
       "    <tr>\n",
       "      <th>39</th>\n",
       "      <td>SOHO_KZ</td>\n",
       "      <td>person</td>\n",
       "      <td>categorical</td>\n",
       "      <td>[-1]</td>\n",
       "      <td>[-1]</td>\n",
       "    </tr>\n",
       "    <tr>\n",
       "      <th>41</th>\n",
       "      <td>VERS_TYP</td>\n",
       "      <td>person</td>\n",
       "      <td>categorical</td>\n",
       "      <td>[-1]</td>\n",
       "      <td>[-1]</td>\n",
       "    </tr>\n",
       "    <tr>\n",
       "      <th>2</th>\n",
       "      <td>ANREDE_KZ</td>\n",
       "      <td>person</td>\n",
       "      <td>categorical</td>\n",
       "      <td>[-1,0]</td>\n",
       "      <td>[-1, 0]</td>\n",
       "    </tr>\n",
       "    <tr>\n",
       "      <th>28</th>\n",
       "      <td>SEMIO_VERT</td>\n",
       "      <td>person</td>\n",
       "      <td>ordinal</td>\n",
       "      <td>[-1,9]</td>\n",
       "      <td>[-1, 9]</td>\n",
       "    </tr>\n",
       "  </tbody>\n",
       "</table>\n",
       "</div>"
      ],
      "text/plain": [
       "     attribute information_level         type missing_or_unknown NaN_tags\n",
       "34   SEMIO_DOM            person      ordinal             [-1,9]  [-1, 9]\n",
       "39     SOHO_KZ            person  categorical               [-1]     [-1]\n",
       "41    VERS_TYP            person  categorical               [-1]     [-1]\n",
       "2    ANREDE_KZ            person  categorical             [-1,0]  [-1, 0]\n",
       "28  SEMIO_VERT            person      ordinal             [-1,9]  [-1, 9]"
      ]
     },
     "execution_count": 12,
     "metadata": {},
     "output_type": "execute_result"
    }
   ],
   "source": [
    "# Checking for correctness\n",
    "feat_info.sample(5)"
   ]
  },
  {
   "cell_type": "code",
   "execution_count": 13,
   "metadata": {},
   "outputs": [],
   "source": [
    "# Inserting NA into the dataframe\n",
    "# Creating a copy of feat_info with the attributes as index, so we can use the .loc method\n",
    "att_index = feat_info.set_index('attribute')"
   ]
  },
  {
   "cell_type": "code",
   "execution_count": 14,
   "metadata": {},
   "outputs": [],
   "source": [
    "# Using np.NaN to replace the values with NaN\n",
    "for col in azdias.columns:\n",
    "    azdias[col].replace(att_index.loc[col].loc['NaN_tags'],np.NaN,inplace=True)\n"
   ]
  },
  {
   "cell_type": "code",
   "execution_count": 15,
   "metadata": {},
   "outputs": [
    {
     "data": {
      "text/plain": [
       "8373929"
      ]
     },
     "execution_count": 15,
     "metadata": {},
     "output_type": "execute_result"
    }
   ],
   "source": [
    "# Checking for the total NaN in the dataframe\n",
    "azdias.isna().sum().sum()"
   ]
  },
  {
   "cell_type": "markdown",
   "metadata": {},
   "source": [
    "There is an additional 3,477,838 NaN correctly labeled in the dataframe."
   ]
  },
  {
   "cell_type": "markdown",
   "metadata": {},
   "source": [
    "#### Step 1.1.2: Assess Missing Data in Each Column\n",
    "\n",
    "How much missing data is present in each column? There are a few columns that are outliers in terms of the proportion of values that are missing. You will want to use matplotlib's [`hist()`](https://matplotlib.org/api/_as_gen/matplotlib.pyplot.hist.html) function to visualize the distribution of missing value counts to find these columns. Identify and document these columns. While some of these columns might have justifications for keeping or re-encoding the data, for this project you should just remove them from the dataframe. (Feel free to make remarks about these outlier columns in the discussion, however!)\n",
    "\n",
    "For the remaining features, are there any patterns in which columns have, or share, missing data?"
   ]
  },
  {
   "cell_type": "code",
   "execution_count": 16,
   "metadata": {},
   "outputs": [],
   "source": [
    "# Perform an assessment of how much missing data there is in each column of the\n",
    "# dataset.\n",
    "missing_data = azdias.isna().sum()"
   ]
  },
  {
   "cell_type": "code",
   "execution_count": 17,
   "metadata": {},
   "outputs": [
    {
     "data": {
      "image/png": "[encoded data removed]",
      "text/plain": [
       "<matplotlib.figure.Figure at 0x7f3c802b15f8>"
      ]
     },
     "metadata": {
      "needs_background": "light"
     },
     "output_type": "display_data"
    }
   ],
   "source": [
    "# Investigate patterns in the amount of missing data in each column.\n",
    "missing_data.hist();\n"
   ]
  },
  {
   "cell_type": "markdown",
   "metadata": {},
   "source": [
    "There are around 40 columns that are missing close to 200k data. Whats surprising is there are a handful that are missing more than half of the data if not almost all of the data!"
   ]
  },
  {
   "cell_type": "code",
   "execution_count": 18,
   "metadata": {},
   "outputs": [
    {
     "data": {
      "image/png": "[encoded data removed]",
      "text/plain": [
       "<matplotlib.figure.Figure at 0x7f3c50565cc0>"
      ]
     },
     "metadata": {
      "needs_background": "light"
     },
     "output_type": "display_data"
    }
   ],
   "source": [
    "# Let's take a look at the columns with a lot of missing data.\n",
    "missing_data.sort_values(inplace=True)\n",
    "missing_data.plot.barh(figsize=(10,20));"
   ]
  },
  {
   "cell_type": "code",
   "execution_count": 19,
   "metadata": {},
   "outputs": [],
   "source": [
    "# Remove the outlier columns from the dataset. (You'll perform other data\n",
    "# engineering tasks such as re-encoding and imputation later.)\n",
    "# Based on the histogram above, I am going to drop the columns with missing values greater than 200k. \n",
    "dropped_columns = []\n",
    "for col in azdias:\n",
    "    if azdias[col].isna().sum() > 200000:\n",
    "        dropped_columns.append(col)\n",
    "        azdias.drop([col], axis=1, inplace=True)\n"
   ]
  },
  {
   "cell_type": "code",
   "execution_count": 20,
   "metadata": {},
   "outputs": [
    {
     "data": {
      "text/plain": [
       "(891221, 79)"
      ]
     },
     "execution_count": 20,
     "metadata": {},
     "output_type": "execute_result"
    }
   ],
   "source": [
    "azdias.shape"
   ]
  },
  {
   "cell_type": "markdown",
   "metadata": {},
   "source": [
    "#### Discussion 1.1.2: Assess Missing Data in Each Column\n",
    "\n",
    "The initial number of missing values is 4896838. After that we replaced the ones that are incorrectly entered with NaN. That gave us a total of 8373929 missing values. Next is I made a histogram of all missing values to see the distribution. Based on the histogram, I identified 200k as the threshold for outliers. After dropping the 6 columns that has more than 200k missing values, I am left with a dataframe of 79 columns. "
   ]
  },
  {
   "cell_type": "markdown",
   "metadata": {},
   "source": [
    "#### Step 1.1.3: Assess Missing Data in Each Row\n",
    "\n",
    "Now, you'll perform a similar assessment for the rows of the dataset. How much data is missing in each row? As with the columns, you should see some groups of points that have a very different numbers of missing values. Divide the data into two subsets: one for data points that are above some threshold for missing values, and a second subset for points below that threshold.\n",
    "\n",
    "In order to know what to do with the outlier rows, we should see if the distribution of data values on columns that are not missing data (or are missing very little data) are similar or different between the two groups. Select at least five of these columns and compare the distribution of values.\n",
    "- You can use seaborn's [`countplot()`](https://seaborn.pydata.org/generated/seaborn.countplot.html) function to create a bar chart of code frequencies and matplotlib's [`subplot()`](https://matplotlib.org/api/_as_gen/matplotlib.pyplot.subplot.html) function to put bar charts for the two subplots side by side.\n",
    "- To reduce repeated code, you might want to write a function that can perform this comparison, taking as one of its arguments a column to be compared.\n",
    "\n",
    "Depending on what you observe in your comparison, this will have implications on how you approach your conclusions later in the analysis. If the distributions of non-missing features look similar between the data with many missing values and the data with few or no missing values, then we could argue that simply dropping those points from the analysis won't present a major issue. On the other hand, if the data with many missing values looks very different from the data with few or no missing values, then we should make a note on those data as special. We'll revisit these data later on. **Either way, you should continue your analysis for now using just the subset of the data with few or no missing values.**"
   ]
  },
  {
   "cell_type": "code",
   "execution_count": 21,
   "metadata": {},
   "outputs": [
    {
     "data": {
      "image/png": "[encoded data removed]",
      "text/plain": [
       "<matplotlib.figure.Figure at 0x7f3c505514a8>"
      ]
     },
     "metadata": {
      "needs_background": "light"
     },
     "output_type": "display_data"
    }
   ],
   "source": [
    "# How much data is missing in each row of the dataset?\n",
    "missing_row = azdias.isnull().sum(axis=1)\n",
    "plt.hist(missing_row)\n",
    "plt.xlabel('Number of Missing Values')\n",
    "plt.ylabel('Number of Rows')\n",
    "plt.title('Missing Data in Each Row')\n",
    "plt.show()"
   ]
  },
  {
   "cell_type": "code",
   "execution_count": 22,
   "metadata": {},
   "outputs": [],
   "source": [
    "# Write code to divide the data into two subsets based on the number of missing values in each row.\n",
    "# Basing on the histogram above I am going to use 25 as the theshold.\n",
    "\n",
    "azdias_above = azdias[azdias.isnull().sum(axis=1) > 25]\n",
    "azdias_below = azdias[azdias.isnull().sum(axis=1) <= 25]"
   ]
  },
  {
   "cell_type": "code",
   "execution_count": 23,
   "metadata": {},
   "outputs": [
    {
     "data": {
      "image/png": "[encoded data removed]",
      "text/plain": [
       "<matplotlib.figure.Figure at 0x7f3c504b31d0>"
      ]
     },
     "metadata": {
      "needs_background": "light"
     },
     "output_type": "display_data"
    }
   ],
   "source": [
    "# Checking to see if most of the missing rows are above 25\n",
    "azdias_above.isnull().sum(axis=1).hist();"
   ]
  },
  {
   "cell_type": "code",
   "execution_count": 24,
   "metadata": {},
   "outputs": [
    {
     "data": {
      "text/plain": [
       "<matplotlib.axes._subplots.AxesSubplot at 0x7f3c50316d68>"
      ]
     },
     "execution_count": 24,
     "metadata": {},
     "output_type": "execute_result"
    },
    {
     "data": {
      "image/png": "[encoded data removed]",
      "text/plain": [
       "<matplotlib.figure.Figure at 0x7f3c5031ccf8>"
      ]
     },
     "metadata": {
      "needs_background": "light"
     },
     "output_type": "display_data"
    }
   ],
   "source": [
    "# Checking to see if most of the missing rows are below 25\n",
    "azdias_below.isnull().sum(axis=1).hist()"
   ]
  },
  {
   "cell_type": "code",
   "execution_count": 25,
   "metadata": {},
   "outputs": [],
   "source": [
    "# Compare the distribution of values for at least five columns where there are\n",
    "# no or few missing values, between the two subsets.\n",
    "\n",
    "def compare_distribution (df1, df2, column):\n",
    "    fig, (ax1, ax2) = plt.subplots(1, 2, figsize=(12, 4))\n",
    "    graph_title = \"Comparison of Column Distributions\"\n",
    "    fig.suptitle(graph_title, fontsize=16, verticalalignment='baseline')\n",
    "    sns.countplot(df1[column], ax=ax1)\n",
    "    sns.countplot(df2[column], ax=ax2)\n",
    "    ax1.set_title('Below Threshold')\n",
    "    ax2.set_title('Above Threshold')\n",
    "    fig.show()\n"
   ]
  },
  {
   "cell_type": "code",
   "execution_count": 26,
   "metadata": {},
   "outputs": [],
   "source": [
    "column_names = ['ALTERSKATEGORIE_GROB', 'ANREDE_KZ', 'CJT_GESAMTTYP',\n",
    "       'FINANZ_MINIMALIST', 'FINANZ_SPARER']"
   ]
  },
  {
   "cell_type": "code",
   "execution_count": 27,
   "metadata": {},
   "outputs": [
    {
     "name": "stderr",
     "output_type": "stream",
     "text": [
      "/opt/conda/lib/python3.6/site-packages/matplotlib/figure.py:418: UserWarning: matplotlib is currently using a non-GUI backend, so cannot show the figure\n",
      "  \"matplotlib is currently using a non-GUI backend, \"\n"
     ]
    },
    {
     "data": {
      "image/png": "[encoded data removed]",
      "text/plain": [
       "<matplotlib.figure.Figure at 0x7f3c4f188588>"
      ]
     },
     "metadata": {
      "needs_background": "light"
     },
     "output_type": "display_data"
    },
    {
     "data": {
      "image/png": "[encoded data removed]",
      "text/plain": [
       "<matplotlib.figure.Figure at 0x7f3c4c7f3a90>"
      ]
     },
     "metadata": {
      "needs_background": "light"
     },
     "output_type": "display_data"
    },
    {
     "data": {
      "image/png": "[encoded data removed]",
      "text/plain": [
       "<matplotlib.figure.Figure at 0x7f3c4c785a58>"
      ]
     },
     "metadata": {
      "needs_background": "light"
     },
     "output_type": "display_data"
    },
    {
     "data": {
      "image/png": "[encoded data removed]",
      "text/plain": [
       "<matplotlib.figure.Figure at 0x7f3c4c6bee48>"
      ]
     },
     "metadata": {
      "needs_background": "light"
     },
     "output_type": "display_data"
    },
    {
     "data": {
      "image/png": "[encoded data removed]",
      "text/plain": [
       "<matplotlib.figure.Figure at 0x7f3c4c651ba8>"
      ]
     },
     "metadata": {
      "needs_background": "light"
     },
     "output_type": "display_data"
    }
   ],
   "source": [
    "for col in column_names:\n",
    "    compare_distribution(azdias_below, azdias_above, col)"
   ]
  },
  {
   "cell_type": "markdown",
   "metadata": {},
   "source": [
    "#### Discussion 1.1.3: Assess Missing Data in Each Row\n",
    "After assessing missing data in each column, I assessed missing data in each row next. I went and find the values then plot them on a histogram. By analyzing the histogram, I was able to make 2 subsets using a threshold roughly in the middle of the histogram. I compared the distributions of the two different subsets on same columns next. The distribution of the data that is above the threshold is not the same as the ones below the threshold. I don't know why is that the case, maybe user input is wrong or something else. I am choosing to not use the data that has missing values above the threshold as I would rather drop it than replace their input with the mean or mode or median. I believe that by doing so, I am risking skewing my model. "
   ]
  },
  {
   "cell_type": "markdown",
   "metadata": {},
   "source": [
    "### Step 1.2: Select and Re-Encode Features\n",
    "\n",
    "Checking for missing data isn't the only way in which you can prepare a dataset for analysis. Since the unsupervised learning techniques to be used will only work on data that is encoded numerically, you need to make a few encoding changes or additional assumptions to be able to make progress. In addition, while almost all of the values in the dataset are encoded using numbers, not all of them represent numeric values. Check the third column of the feature summary (`feat_info`) for a summary of types of measurement.\n",
    "- For numeric and interval data, these features can be kept without changes.\n",
    "- Most of the variables in the dataset are ordinal in nature. While ordinal values may technically be non-linear in spacing, make the simplifying assumption that the ordinal variables can be treated as being interval in nature (that is, kept without any changes).\n",
    "- Special handling may be necessary for the remaining two variable types: categorical, and 'mixed'.\n",
    "\n",
    "In the first two parts of this sub-step, you will perform an investigation of the categorical and mixed-type features and make a decision on each of them, whether you will keep, drop, or re-encode each. Then, in the last part, you will create a new data frame with only the selected and engineered columns.\n",
    "\n",
    "Data wrangling is often the trickiest part of the data analysis process, and there's a lot of it to be done here. But stick with it: once you're done with this step, you'll be ready to get to the machine learning parts of the project!"
   ]
  },
  {
   "cell_type": "code",
   "execution_count": 28,
   "metadata": {},
   "outputs": [],
   "source": [
    "# How many features are there of each data type?\n",
    "# Before answering that, I need to drop the dropped columns from feat_info\n",
    "\n",
    "feat_info_new = feat_info.set_index('attribute').drop(dropped_columns).reset_index()"
   ]
  },
  {
   "cell_type": "code",
   "execution_count": 29,
   "metadata": {},
   "outputs": [
    {
     "data": {
      "text/plain": [
       "ordinal        49\n",
       "categorical    18\n",
       "mixed           6\n",
       "numeric         6\n",
       "Name: type, dtype: int64"
      ]
     },
     "execution_count": 29,
     "metadata": {},
     "output_type": "execute_result"
    }
   ],
   "source": [
    "feat_info_new.type.value_counts()"
   ]
  },
  {
   "cell_type": "markdown",
   "metadata": {},
   "source": [
    "\n",
    "#### Step 1.2.1: Re-Encode Categorical Features\n",
    "\n",
    "For categorical data, you would ordinarily need to encode the levels as dummy variables. Depending on the number of categories, perform one of the following:\n",
    "- For binary (two-level) categoricals that take numeric values, you can keep them without needing to do anything.\n",
    "- There is one binary variable that takes on non-numeric values. For this one, you need to re-encode the values as numbers or create a dummy variable.\n",
    "- For multi-level categoricals (three or more values), you can choose to encode the values using multiple dummy variables (e.g. via [OneHotEncoder](http://scikit-learn.org/stable/modules/generated/sklearn.preprocessing.OneHotEncoder.html)), or (to keep things straightforward) just drop them from the analysis. As always, document your choices in the Discussion section."
   ]
  },
  {
   "cell_type": "code",
   "execution_count": 30,
   "metadata": {},
   "outputs": [],
   "source": [
    "# Assess categorical variables: which are binary, which are multi-level, and\n",
    "# which one needs to be re-encoded?\n",
    "categorical = feat_info_new[feat_info_new['type'] == 'categorical']\n",
    "cat_var = categorical['attribute'].values.tolist()"
   ]
  },
  {
   "cell_type": "code",
   "execution_count": 31,
   "metadata": {},
   "outputs": [
    {
     "data": {
      "text/plain": [
       "['ANREDE_KZ',\n",
       " 'CJT_GESAMTTYP',\n",
       " 'FINANZTYP',\n",
       " 'GFK_URLAUBERTYP',\n",
       " 'GREEN_AVANTGARDE',\n",
       " 'LP_FAMILIE_FEIN',\n",
       " 'LP_FAMILIE_GROB',\n",
       " 'LP_STATUS_FEIN',\n",
       " 'LP_STATUS_GROB',\n",
       " 'NATIONALITAET_KZ',\n",
       " 'SHOPPER_TYP',\n",
       " 'SOHO_KZ',\n",
       " 'VERS_TYP',\n",
       " 'ZABEOTYP',\n",
       " 'GEBAEUDETYP',\n",
       " 'OST_WEST_KZ',\n",
       " 'CAMEO_DEUG_2015',\n",
       " 'CAMEO_DEU_2015']"
      ]
     },
     "execution_count": 31,
     "metadata": {},
     "output_type": "execute_result"
    }
   ],
   "source": [
    "cat_var"
   ]
  },
  {
   "cell_type": "code",
   "execution_count": 32,
   "metadata": {},
   "outputs": [],
   "source": [
    "binary = []\n",
    "multi = []\n",
    "\n",
    "for cat in cat_var:\n",
    "    if cat in azdias_below:\n",
    "        if azdias_below[cat].nunique() == 2:\n",
    "            binary.append(cat)\n",
    "        else:\n",
    "            multi.append(cat)\n",
    "        \n"
   ]
  },
  {
   "cell_type": "code",
   "execution_count": 33,
   "metadata": {},
   "outputs": [
    {
     "data": {
      "text/plain": [
       "['ANREDE_KZ', 'GREEN_AVANTGARDE', 'SOHO_KZ', 'VERS_TYP', 'OST_WEST_KZ']"
      ]
     },
     "execution_count": 33,
     "metadata": {},
     "output_type": "execute_result"
    }
   ],
   "source": [
    "binary"
   ]
  },
  {
   "cell_type": "code",
   "execution_count": 34,
   "metadata": {},
   "outputs": [
    {
     "data": {
      "text/plain": [
       "['CJT_GESAMTTYP',\n",
       " 'FINANZTYP',\n",
       " 'GFK_URLAUBERTYP',\n",
       " 'LP_FAMILIE_FEIN',\n",
       " 'LP_FAMILIE_GROB',\n",
       " 'LP_STATUS_FEIN',\n",
       " 'LP_STATUS_GROB',\n",
       " 'NATIONALITAET_KZ',\n",
       " 'SHOPPER_TYP',\n",
       " 'ZABEOTYP',\n",
       " 'GEBAEUDETYP',\n",
       " 'CAMEO_DEUG_2015',\n",
       " 'CAMEO_DEU_2015']"
      ]
     },
     "execution_count": 34,
     "metadata": {},
     "output_type": "execute_result"
    }
   ],
   "source": [
    "multi"
   ]
  },
  {
   "cell_type": "code",
   "execution_count": 35,
   "metadata": {},
   "outputs": [
    {
     "name": "stdout",
     "output_type": "stream",
     "text": [
      "2    416117\n",
      "1    381844\n",
      "Name: ANREDE_KZ, dtype: int64\n",
      "0    622741\n",
      "1    175220\n",
      "Name: GREEN_AVANTGARDE, dtype: int64\n",
      "0.0    791245\n",
      "1.0      6716\n",
      "Name: SOHO_KZ, dtype: int64\n",
      "2.0    394229\n",
      "1.0    367052\n",
      "Name: VERS_TYP, dtype: int64\n",
      "W    629433\n",
      "O    168528\n",
      "Name: OST_WEST_KZ, dtype: int64\n"
     ]
    }
   ],
   "source": [
    "for cat in binary:\n",
    "    val = azdias_below[cat].value_counts()\n",
    "    print(val)"
   ]
  },
  {
   "cell_type": "markdown",
   "metadata": {},
   "source": [
    "The columns OST_WEST_KZ takes W, O instead of numeric, therefore it has to be encoded."
   ]
  },
  {
   "cell_type": "code",
   "execution_count": 36,
   "metadata": {
    "scrolled": false
   },
   "outputs": [
    {
     "name": "stdout",
     "output_type": "stream",
     "text": [
      "4.0    198286\n",
      "3.0    147208\n",
      "2.0    141263\n",
      "5.0    111107\n",
      "6.0    102077\n",
      "1.0     93307\n",
      "Name: CJT_GESAMTTYP, dtype: int64\n",
      "6    289059\n",
      "1    197125\n",
      "5    106326\n",
      "2    104758\n",
      "4     55916\n",
      "3     44777\n",
      "Name: FINANZTYP, dtype: int64\n",
      "12.0    130241\n",
      "10.0    102827\n",
      "8.0      83029\n",
      "11.0     75100\n",
      "5.0      70499\n",
      "4.0      60422\n",
      "9.0      57125\n",
      "3.0      53101\n",
      "1.0      50656\n",
      "2.0      43830\n",
      "7.0      40679\n",
      "6.0      25739\n",
      "Name: GFK_URLAUBERTYP, dtype: int64\n",
      "1.0     402539\n",
      "10.0    128967\n",
      "2.0      98551\n",
      "11.0     48745\n",
      "8.0      21780\n",
      "7.0      19575\n",
      "4.0      11574\n",
      "5.0      11167\n",
      "9.0      10452\n",
      "6.0       8526\n",
      "3.0       4688\n",
      "Name: LP_FAMILIE_FEIN, dtype: int64\n",
      "1.0    402539\n",
      "5.0    188164\n",
      "2.0     98551\n",
      "4.0     49881\n",
      "3.0     27429\n",
      "Name: LP_FAMILIE_GROB, dtype: int64\n",
      "1.0     206853\n",
      "9.0     136347\n",
      "10.0    111574\n",
      "2.0     111104\n",
      "4.0      73969\n",
      "3.0      68918\n",
      "6.0      28894\n",
      "5.0      27584\n",
      "8.0      18801\n",
      "7.0       9204\n",
      "Name: LP_STATUS_FEIN, dtype: int64\n",
      "1.0    317957\n",
      "2.0    170471\n",
      "4.0    155148\n",
      "5.0    111574\n",
      "3.0     38098\n",
      "Name: LP_STATUS_GROB, dtype: int64\n",
      "1.0    667876\n",
      "2.0     63645\n",
      "3.0     32561\n",
      "Name: NATIONALITAET_KZ, dtype: int64\n",
      "1.0    247394\n",
      "2.0    205929\n",
      "3.0    180835\n",
      "0.0    127123\n",
      "Name: SHOPPER_TYP, dtype: int64\n",
      "3    282195\n",
      "4    207519\n",
      "1    123427\n",
      "5     80957\n",
      "6     70863\n",
      "2     33000\n",
      "Name: ZABEOTYP, dtype: int64\n",
      "1.0    460409\n",
      "3.0    178653\n",
      "8.0    152472\n",
      "2.0      4904\n",
      "4.0       897\n",
      "6.0       625\n",
      "5.0         1\n",
      "Name: GEBAEUDETYP, dtype: int64\n",
      "8    134439\n",
      "9    108176\n",
      "6    105873\n",
      "4    103905\n",
      "3     86769\n",
      "2     83226\n",
      "7     77933\n",
      "5     55307\n",
      "1     36212\n",
      "Name: CAMEO_DEUG_2015, dtype: int64\n",
      "6B    56672\n",
      "8A    52437\n",
      "4C    47816\n",
      "2D    35074\n",
      "3C    34766\n",
      "7A    34399\n",
      "3D    34304\n",
      "8B    33434\n",
      "4A    33152\n",
      "8C    30992\n",
      "9D    28593\n",
      "9B    27676\n",
      "9C    24987\n",
      "7B    24503\n",
      "9A    20542\n",
      "2C    19420\n",
      "8D    17576\n",
      "6E    16107\n",
      "2B    15484\n",
      "5D    14943\n",
      "6C    14820\n",
      "2A    13248\n",
      "5A    12211\n",
      "1D    11909\n",
      "1A    10850\n",
      "3A    10542\n",
      "5B    10354\n",
      "5C     9935\n",
      "7C     9065\n",
      "4B     9047\n",
      "4D     8570\n",
      "3B     7157\n",
      "6A     6809\n",
      "9E     6378\n",
      "6D     6073\n",
      "6F     5392\n",
      "7D     5333\n",
      "4E     5320\n",
      "1E     5065\n",
      "7E     4633\n",
      "1C     4317\n",
      "5F     4283\n",
      "1B     4071\n",
      "5E     3581\n",
      "Name: CAMEO_DEU_2015, dtype: int64\n"
     ]
    }
   ],
   "source": [
    "for cat in multi:\n",
    "    val = azdias_below[cat].value_counts()\n",
    "    print(val)"
   ]
  },
  {
   "cell_type": "code",
   "execution_count": 37,
   "metadata": {},
   "outputs": [],
   "source": [
    "# Re-encode categorical variable(s) to be kept in the analysis.\n",
    "col_list = ['OST_WEST_KZ']\n",
    "azdias_below = pd.get_dummies(azdias_below, columns=col_list)\n"
   ]
  },
  {
   "cell_type": "code",
   "execution_count": 38,
   "metadata": {},
   "outputs": [],
   "source": [
    "# I am dropping the multi-level categoricals to keep things straightforward\n",
    "for col in multi:\n",
    "    azdias_below.drop(col, axis=1, inplace=True)\n",
    "    "
   ]
  },
  {
   "cell_type": "code",
   "execution_count": 39,
   "metadata": {},
   "outputs": [
    {
     "data": {
      "text/plain": [
       "(797961, 67)"
      ]
     },
     "execution_count": 39,
     "metadata": {},
     "output_type": "execute_result"
    }
   ],
   "source": [
    "azdias_below.shape"
   ]
  },
  {
   "cell_type": "markdown",
   "metadata": {},
   "source": [
    "#### Discussion 1.2.1: Re-Encode Categorical Features\n",
    "\n",
    "For this part, I selected the categorical columns from among them and split them into binary and multi-level. Binary columns are the columns that have only 2 unique values while multi-level takes more than that. Per project instructions, I kept the binary categoricals that take numeric values as is. The column OST_WEST_KZ takes 'W' and 'O' instead of 1 and 0 so I had to onehotencode that column as the models don't take non-numeric inputs. I also dropped all multi-level categoricals to keep it more straightforward. One downside of keeping all the multi-level categoricals is it will create a large number of dummy variables thus diluting the variability captured by components in PCA."
   ]
  },
  {
   "cell_type": "markdown",
   "metadata": {},
   "source": [
    "#### Step 1.2.2: Engineer Mixed-Type Features\n",
    "\n",
    "There are a handful of features that are marked as \"mixed\" in the feature summary that require special treatment in order to be included in the analysis. There are two in particular that deserve attention; the handling of the rest are up to your own choices:\n",
    "- \"PRAEGENDE_JUGENDJAHRE\" combines information on three dimensions: generation by decade, movement (mainstream vs. avantgarde), and nation (east vs. west). While there aren't enough levels to disentangle east from west, you should create two new variables to capture the other two dimensions: an interval-type variable for decade, and a binary variable for movement.\n",
    "- \"CAMEO_INTL_2015\" combines information on two axes: wealth and life stage. Break up the two-digit codes by their 'tens'-place and 'ones'-place digits into two new ordinal variables (which, for the purposes of this project, is equivalent to just treating them as their raw numeric values).\n",
    "- If you decide to keep or engineer new features around the other mixed-type features, make sure you note your steps in the Discussion section.\n",
    "\n",
    "Be sure to check `Data_Dictionary.md` for the details needed to finish these tasks."
   ]
  },
  {
   "cell_type": "code",
   "execution_count": 40,
   "metadata": {},
   "outputs": [],
   "source": [
    "# Identifying the mixed type variables\n",
    "mixed = feat_info_new[feat_info_new['type'] == 'mixed']\n",
    "mixed_var = mixed['attribute'].values.tolist()"
   ]
  },
  {
   "cell_type": "code",
   "execution_count": 41,
   "metadata": {},
   "outputs": [
    {
     "data": {
      "text/plain": [
       "['LP_LEBENSPHASE_FEIN',\n",
       " 'LP_LEBENSPHASE_GROB',\n",
       " 'PRAEGENDE_JUGENDJAHRE',\n",
       " 'WOHNLAGE',\n",
       " 'CAMEO_INTL_2015',\n",
       " 'PLZ8_BAUMAX']"
      ]
     },
     "execution_count": 41,
     "metadata": {},
     "output_type": "execute_result"
    }
   ],
   "source": [
    "mixed_var"
   ]
  },
  {
   "cell_type": "code",
   "execution_count": 42,
   "metadata": {},
   "outputs": [],
   "source": [
    "# Investigate \"PRAEGENDE_JUGENDJAHRE\" and engineer two new variables(DECADE and MOVEMENT)\n",
    "azdias_below['DECADE'] = azdias_below['PRAEGENDE_JUGENDJAHRE']\n",
    "azdias_below['MOVEMENT'] = azdias_below['PRAEGENDE_JUGENDJAHRE']"
   ]
  },
  {
   "cell_type": "code",
   "execution_count": 43,
   "metadata": {},
   "outputs": [],
   "source": [
    "# Dropping the original column\n",
    "azdias_below.drop('PRAEGENDE_JUGENDJAHRE', axis=1, inplace=True)"
   ]
  },
  {
   "cell_type": "code",
   "execution_count": 44,
   "metadata": {},
   "outputs": [],
   "source": [
    "# I am defining a function to replace the movement, 0 = mainstream : 1 = avantgarde\n",
    "# FYI all these values are referenced in Data_Dictionary.md file\n",
    "def replace_movement(x):\n",
    "    if x == 'NaN':\n",
    "        return np.NaN\n",
    "    elif x in [1,3,5,8,10,12,14]:\n",
    "        return 0\n",
    "    else:\n",
    "        return 1"
   ]
  },
  {
   "cell_type": "code",
   "execution_count": 45,
   "metadata": {},
   "outputs": [],
   "source": [
    "# Applying the function\n",
    "azdias_below['MOVEMENT'] = azdias_below['MOVEMENT'].apply(replace_movement)"
   ]
  },
  {
   "cell_type": "code",
   "execution_count": 46,
   "metadata": {},
   "outputs": [
    {
     "data": {
      "text/plain": [
       "0    594032\n",
       "1    203929\n",
       "Name: MOVEMENT, dtype: int64"
      ]
     },
     "execution_count": 46,
     "metadata": {},
     "output_type": "execute_result"
    }
   ],
   "source": [
    "# Checking for accuracy\n",
    "azdias_below['MOVEMENT'].value_counts()"
   ]
  },
  {
   "cell_type": "code",
   "execution_count": 47,
   "metadata": {},
   "outputs": [],
   "source": [
    "# Function definition to convert ['DECADE'] into an interval type variable\n",
    "def replace_decade(x):\n",
    "    if x == 'NaN':\n",
    "        return np.NaN\n",
    "    elif x in [1,2]:\n",
    "        return 40\n",
    "    elif x in [3,4]:\n",
    "        return 50\n",
    "    elif x in [5,6,7]:\n",
    "        return 60\n",
    "    elif x in [8,9]:\n",
    "        return 70\n",
    "    elif x in [10,11,12,13]:\n",
    "        return 80\n",
    "    elif x in [14,15]:\n",
    "        return 90"
   ]
  },
  {
   "cell_type": "code",
   "execution_count": 48,
   "metadata": {},
   "outputs": [],
   "source": [
    "# Applying the function\n",
    "azdias_below['DECADE'] = azdias_below['DECADE'].apply(replace_decade)"
   ]
  },
  {
   "cell_type": "code",
   "execution_count": 49,
   "metadata": {},
   "outputs": [
    {
     "data": {
      "text/plain": [
       "90.0    225511\n",
       "70.0    175182\n",
       "80.0    151761\n",
       "60.0    114349\n",
       "50.0     74292\n",
       "40.0     28157\n",
       "Name: DECADE, dtype: int64"
      ]
     },
     "execution_count": 49,
     "metadata": {},
     "output_type": "execute_result"
    }
   ],
   "source": [
    "# Checking for accuracy\n",
    "azdias_below['DECADE'].value_counts()"
   ]
  },
  {
   "cell_type": "code",
   "execution_count": 50,
   "metadata": {},
   "outputs": [],
   "source": [
    "# Investigate \"CAMEO_INTL_2015\" and engineer two new variables(WEALTH and LIFESTAGE)\n",
    "azdias_below['WEALTH'] = azdias_below['CAMEO_INTL_2015']\n",
    "azdias_below['LIFESTAGE'] = azdias_below['CAMEO_INTL_2015']"
   ]
  },
  {
   "cell_type": "code",
   "execution_count": 51,
   "metadata": {},
   "outputs": [],
   "source": [
    "# Dropping the original column\n",
    "azdias_below.drop('CAMEO_INTL_2015', axis=1, inplace=True)"
   ]
  },
  {
   "cell_type": "code",
   "execution_count": 52,
   "metadata": {},
   "outputs": [],
   "source": [
    "# Function definition to classify WEALTH according to data dictionary\n",
    "# 1 = wealthy\n",
    "# 2 = prosperous\n",
    "# 3 = comfortable\n",
    "# 4 = less affluent\n",
    "# 5 = poorer\n",
    "\n",
    "def replace_wealth(x):\n",
    "    if pd.isnull(x):\n",
    "        return np.NaN\n",
    "    else:\n",
    "        return int(str(x)[0])"
   ]
  },
  {
   "cell_type": "code",
   "execution_count": 53,
   "metadata": {},
   "outputs": [],
   "source": [
    "# Applying the function\n",
    "azdias_below['WEALTH'] = azdias_below['WEALTH'].apply(replace_wealth)"
   ]
  },
  {
   "cell_type": "code",
   "execution_count": 54,
   "metadata": {},
   "outputs": [
    {
     "data": {
      "text/plain": [
       "5.0    223579\n",
       "2.0    190674\n",
       "4.0    189960\n",
       "1.0    119438\n",
       "3.0     68189\n",
       "Name: WEALTH, dtype: int64"
      ]
     },
     "execution_count": 54,
     "metadata": {},
     "output_type": "execute_result"
    }
   ],
   "source": [
    "# Checking for accuracy\n",
    "azdias_below['WEALTH'].value_counts()"
   ]
  },
  {
   "cell_type": "code",
   "execution_count": 55,
   "metadata": {},
   "outputs": [],
   "source": [
    "# Function definition to classify LIFESTAGE according to data dictionary\n",
    "# 1 = Pre-family couples and singles\n",
    "# 2 = Young couples with children\n",
    "# 3 = Families with school age children\n",
    "# 4 = Older families and mature couples\n",
    "# 5 = Elders in retirement\n",
    "\n",
    "def replace_lifestage(x):\n",
    "    if pd.isnull(x):\n",
    "        return np.NaN\n",
    "    else:\n",
    "        return int(str(x)[1])"
   ]
  },
  {
   "cell_type": "code",
   "execution_count": 56,
   "metadata": {},
   "outputs": [],
   "source": [
    "# Applying the function\n",
    "azdias_below['LIFESTAGE'] = azdias_below['LIFESTAGE'].apply(replace_lifestage)"
   ]
  },
  {
   "cell_type": "code",
   "execution_count": 57,
   "metadata": {},
   "outputs": [
    {
     "data": {
      "text/plain": [
       "1.0    245049\n",
       "4.0    232768\n",
       "3.0    119687\n",
       "5.0    117040\n",
       "2.0     77296\n",
       "Name: LIFESTAGE, dtype: int64"
      ]
     },
     "execution_count": 57,
     "metadata": {},
     "output_type": "execute_result"
    }
   ],
   "source": [
    "# Checking for Accuracy\n",
    "azdias_below['LIFESTAGE'].value_counts()"
   ]
  },
  {
   "cell_type": "markdown",
   "metadata": {},
   "source": [
    "#### Discussion 1.2.2: Engineer Mixed-Type Features\n",
    "I coded the two columns PRAEGENDE_JUGENDJAHRE, CAMEO_INTL_2015 into 4 different columns. The data is sufficient enough that I was able to categorize them with what was given to me. I replaced their values with what they reflect using the data_dictionary.md file. I have decided to keep the rest and leave them as is, looking at the data_dictionary might prove useful. If at the end they don't mean anything then I might drop them later. \n",
    " "
   ]
  },
  {
   "cell_type": "markdown",
   "metadata": {},
   "source": [
    "#### Step 1.2.3: Complete Feature Selection\n",
    "\n",
    "In order to finish this step up, you need to make sure that your data frame now only has the columns that you want to keep. To summarize, the dataframe should consist of the following:\n",
    "- All numeric, interval, and ordinal type columns from the original dataset.\n",
    "- Binary categorical features (all numerically-encoded).\n",
    "- Engineered features from other multi-level categorical features and mixed features.\n",
    "\n",
    "Make sure that for any new columns that you have engineered, that you've excluded the original columns from the final dataset. Otherwise, their values will interfere with the analysis later on the project. For example, you should not keep \"PRAEGENDE_JUGENDJAHRE\", since its values won't be useful for the algorithm: only the values derived from it in the engineered features you created should be retained. As a reminder, your data should only be from **the subset with few or no missing values**."
   ]
  },
  {
   "cell_type": "code",
   "execution_count": 58,
   "metadata": {},
   "outputs": [
    {
     "name": "stdout",
     "output_type": "stream",
     "text": [
      "<class 'pandas.core.frame.DataFrame'>\n",
      "Int64Index: 797961 entries, 1 to 891220\n",
      "Data columns (total 69 columns):\n",
      "ALTERSKATEGORIE_GROB     795160 non-null float64\n",
      "ANREDE_KZ                797961 non-null int64\n",
      "FINANZ_MINIMALIST        797961 non-null int64\n",
      "FINANZ_SPARER            797961 non-null int64\n",
      "FINANZ_VORSORGER         797961 non-null int64\n",
      "FINANZ_ANLEGER           797961 non-null int64\n",
      "FINANZ_UNAUFFAELLIGER    797961 non-null int64\n",
      "FINANZ_HAUSBAUER         797961 non-null int64\n",
      "GREEN_AVANTGARDE         797961 non-null int64\n",
      "HEALTH_TYP               761281 non-null float64\n",
      "LP_LEBENSPHASE_FEIN      747828 non-null float64\n",
      "LP_LEBENSPHASE_GROB      750714 non-null float64\n",
      "RETOURTYP_BK_S           793248 non-null float64\n",
      "SEMIO_SOZ                797961 non-null int64\n",
      "SEMIO_FAM                797961 non-null int64\n",
      "SEMIO_REL                797961 non-null int64\n",
      "SEMIO_MAT                797961 non-null int64\n",
      "SEMIO_VERT               797961 non-null int64\n",
      "SEMIO_LUST               797961 non-null int64\n",
      "SEMIO_ERL                797961 non-null int64\n",
      "SEMIO_KULT               797961 non-null int64\n",
      "SEMIO_RAT                797961 non-null int64\n",
      "SEMIO_KRIT               797961 non-null int64\n",
      "SEMIO_DOM                797961 non-null int64\n",
      "SEMIO_KAEM               797961 non-null int64\n",
      "SEMIO_PFLICHT            797961 non-null int64\n",
      "SEMIO_TRADV              797961 non-null int64\n",
      "SOHO_KZ                  797961 non-null float64\n",
      "VERS_TYP                 761281 non-null float64\n",
      "ANZ_PERSONEN             797961 non-null float64\n",
      "ANZ_TITEL                797961 non-null float64\n",
      "HH_EINKOMMEN_SCORE       797961 non-null float64\n",
      "W_KEIT_KIND_HH           738718 non-null float64\n",
      "WOHNDAUER_2008           797961 non-null float64\n",
      "ANZ_HAUSHALTE_AKTIV      791535 non-null float64\n",
      "ANZ_HH_TITEL             794138 non-null float64\n",
      "KONSUMNAEHE              797891 non-null float64\n",
      "MIN_GEBAEUDEJAHR         797961 non-null float64\n",
      "WOHNLAGE                 797961 non-null float64\n",
      "KBA05_ANTG1              757897 non-null float64\n",
      "KBA05_ANTG2              757897 non-null float64\n",
      "KBA05_ANTG3              757897 non-null float64\n",
      "KBA05_ANTG4              757897 non-null float64\n",
      "KBA05_GBZ                757897 non-null float64\n",
      "BALLRAUM                 797369 non-null float64\n",
      "EWDICHTE                 797369 non-null float64\n",
      "INNENSTADT               797369 non-null float64\n",
      "GEBAEUDETYP_RASTER       797954 non-null float64\n",
      "KKK                      733146 non-null float64\n",
      "MOBI_REGIO               757897 non-null float64\n",
      "ONLINE_AFFINITAET        793248 non-null float64\n",
      "REGIOTYP                 733146 non-null float64\n",
      "KBA13_ANZAHL_PKW         785412 non-null float64\n",
      "PLZ8_ANTG1               774706 non-null float64\n",
      "PLZ8_ANTG2               774706 non-null float64\n",
      "PLZ8_ANTG3               774706 non-null float64\n",
      "PLZ8_ANTG4               774706 non-null float64\n",
      "PLZ8_BAUMAX              774706 non-null float64\n",
      "PLZ8_HHZ                 774706 non-null float64\n",
      "PLZ8_GBZ                 774706 non-null float64\n",
      "ARBEIT                   793734 non-null float64\n",
      "ORTSGR_KLS9              793835 non-null float64\n",
      "RELAT_AB                 793734 non-null float64\n",
      "OST_WEST_KZ_O            797961 non-null uint8\n",
      "OST_WEST_KZ_W            797961 non-null uint8\n",
      "DECADE                   769252 non-null float64\n",
      "MOVEMENT                 797961 non-null int64\n",
      "WEALTH                   791840 non-null float64\n",
      "LIFESTAGE                791840 non-null float64\n",
      "dtypes: float64(44), int64(23), uint8(2)\n",
      "memory usage: 435.5 MB\n"
     ]
    }
   ],
   "source": [
    "# If there are other re-engineering tasks you need to perform, make sure you\n",
    "# take care of them here. (Dealing with missing data will come in step 2.1.)\n",
    "azdias_below.info()"
   ]
  },
  {
   "cell_type": "markdown",
   "metadata": {},
   "source": [
    "### Step 1.3: Create a Cleaning Function\n",
    "\n",
    "Even though you've finished cleaning up the general population demographics data, it's important to look ahead to the future and realize that you'll need to perform the same cleaning steps on the customer demographics data. In this substep, complete the function below to execute the main feature selection, encoding, and re-engineering steps you performed above. Then, when it comes to looking at the customer data in Step 3, you can just run this function on that DataFrame to get the trimmed dataset in a single step."
   ]
  },
  {
   "cell_type": "code",
   "execution_count": 97,
   "metadata": {},
   "outputs": [],
   "source": [
    "def clean_data(df):\n",
    "    \"\"\"\n",
    "    Perform feature trimming, re-encoding, and engineering for demographics\n",
    "    data\n",
    "    \n",
    "    INPUT: Demographics DataFrame\n",
    "    OUTPUT: Trimmed and cleaned demographics DataFrame\n",
    "    \"\"\"\n",
    "    \n",
    "    # Put in code here to execute all main cleaning steps:\n",
    "    # convert missing value codes into NaNs, ...\n",
    "    feat_info = pd.read_csv('AZDIAS_Feature_Summary.csv', sep=';')\n",
    "    \n",
    "    feat_info['NaN_tags'] = feat_info['missing_or_unknown'].apply(convert_string)\n",
    "    \n",
    "    att_index = feat_info.set_index('attribute')\n",
    "    \n",
    "    for col in df.columns:\n",
    "        df[col].replace(att_index.loc[col].loc['NaN_tags'],np.NaN,inplace=True)\n",
    "           \n",
    "    # remove selected columns\n",
    "    dropped_columns = []\n",
    "    for col in df:\n",
    "        if df[col].isna().sum() > 200000:\n",
    "            dropped_columns.append(col)\n",
    "            df.drop([col], axis=1, inplace=True)\n",
    "    \n",
    "    # remove selected rows\n",
    "    df_above = df[df.isnull().sum(axis=1) > 25]\n",
    "    df_below = df[df.isnull().sum(axis=1) <= 25]\n",
    "\n",
    "    # select, re-encode, and engineer column values.\n",
    "    # identify the categorical columns\n",
    "    categorical = feat_info_new[feat_info_new['type'] == 'categorical']\n",
    "    cat_var = categorical['attribute'].values.tolist()\n",
    "\n",
    "    # identify binary and multi\n",
    "    binary = []\n",
    "    multi = []\n",
    "\n",
    "    for cat in cat_var:\n",
    "        if cat in df_below:\n",
    "            if df_below[cat].nunique() == 2:\n",
    "                binary.append(cat)\n",
    "            else:\n",
    "                multi.append(cat)\n",
    "    # encoding categorical and dropping the rest\n",
    "    col_list = ['OST_WEST_KZ']\n",
    "    df_below = pd.get_dummies(df_below, columns=col_list)\n",
    "    \n",
    "    for col in multi:\n",
    "        df_below.drop(col, axis=1, inplace=True)\n",
    "\n",
    "    # encoding mixed and dropping the unneeded columns\n",
    "    mixed = feat_info_new[feat_info_new['type'] == 'mixed']\n",
    "    mixed_var = mixed['attribute'].values.tolist()\n",
    "    \n",
    "    df_below['DECADE'] = df_below['PRAEGENDE_JUGENDJAHRE']\n",
    "    df_below['MOVEMENT'] = df_below['PRAEGENDE_JUGENDJAHRE']\n",
    "  \n",
    "    df_below.drop('PRAEGENDE_JUGENDJAHRE', axis=1, inplace=True)\n",
    "    \n",
    "    df_below['MOVEMENT'] = df_below['MOVEMENT'].apply(replace_movement)\n",
    "    df_below['DECADE'] = df_below['DECADE'].apply(replace_decade)\n",
    "    \n",
    "    df_below['WEALTH'] = df_below['CAMEO_INTL_2015']\n",
    "    df_below['LIFESTAGE'] = df_below['CAMEO_INTL_2015']\n",
    "    \n",
    "    df['WEALTH'] = df_below['WEALTH'].apply(replace_wealth)\n",
    "    df_below['LIFESTAGE'] = df_below['LIFESTAGE'].apply(replace_lifestage)\n",
    "    \n",
    "    df_below.drop('CAMEO_INTL_2015', axis=1, inplace=True)\n",
    "    \n",
    "    # Return the cleaned dataframe.\n",
    "    return df_below\n",
    "    \n",
    "    "
   ]
  },
  {
   "cell_type": "markdown",
   "metadata": {},
   "source": [
    "## Step 2: Feature Transformation\n",
    "\n",
    "### Step 2.1: Apply Feature Scaling\n",
    "\n",
    "Before we apply dimensionality reduction techniques to the data, we need to perform feature scaling so that the principal component vectors are not influenced by the natural differences in scale for features. Starting from this part of the project, you'll want to keep an eye on the [API reference page for sklearn](http://scikit-learn.org/stable/modules/classes.html) to help you navigate to all of the classes and functions that you'll need. In this substep, you'll need to check the following:\n",
    "\n",
    "- sklearn requires that data not have missing values in order for its estimators to work properly. So, before applying the scaler to your data, make sure that you've cleaned the DataFrame of the remaining missing values. This can be as simple as just removing all data points with missing data, or applying an [Imputer](https://scikit-learn.org/0.16/modules/generated/sklearn.preprocessing.Imputer.html) to replace all missing values. You might also try a more complicated procedure where you temporarily remove missing values in order to compute the scaling parameters before re-introducing those missing values and applying imputation. Think about how much missing data you have and what possible effects each approach might have on your analysis, and justify your decision in the discussion section below.\n",
    "- For the actual scaling function, a [StandardScaler](http://scikit-learn.org/stable/modules/generated/sklearn.preprocessing.StandardScaler.html) instance is suggested, scaling each feature to mean 0 and standard deviation 1.\n",
    "- For these classes, you can make use of the `.fit_transform()` method to both fit a procedure to the data as well as apply the transformation to the data at the same time. Don't forget to keep the fit sklearn objects handy, since you'll be applying them to the customer demographics data towards the end of the project."
   ]
  },
  {
   "cell_type": "code",
   "execution_count": 60,
   "metadata": {},
   "outputs": [],
   "source": [
    "# If you've not yet cleaned the dataset of all NaN values, then investigate and # do that now.\n",
    "# I am going to use impute to fill in the NaN\n",
    "df_imp = Imputer(missing_values=np.NaN, strategy='median', axis=0)\n",
    "azdias_clean = pd.DataFrame(df_imp.fit_transform(azdias_below))"
   ]
  },
  {
   "cell_type": "code",
   "execution_count": 61,
   "metadata": {},
   "outputs": [
    {
     "data": {
      "text/plain": [
       "0"
      ]
     },
     "execution_count": 61,
     "metadata": {},
     "output_type": "execute_result"
    }
   ],
   "source": [
    "azdias_clean.isna().sum().sum()"
   ]
  },
  {
   "cell_type": "code",
   "execution_count": 62,
   "metadata": {},
   "outputs": [],
   "source": [
    "# Apply feature scaling to the general population demographics data.\n",
    "scaler = StandardScaler()\n",
    "azdias_clean = pd.DataFrame(scaler.fit_transform(azdias_clean))\n"
   ]
  },
  {
   "cell_type": "code",
   "execution_count": 63,
   "metadata": {},
   "outputs": [],
   "source": [
    "# Restoring columns and index\n",
    "azdias_clean.columns = azdias_below.columns\n",
    "azdias_clean.index = azdias_below.index\n"
   ]
  },
  {
   "cell_type": "code",
   "execution_count": 64,
   "metadata": {},
   "outputs": [
    {
     "data": {
      "text/html": [
       "<div>\n",
       "<style scoped>\n",
       "    .dataframe tbody tr th:only-of-type {\n",
       "        vertical-align: middle;\n",
       "    }\n",
       "\n",
       "    .dataframe tbody tr th {\n",
       "        vertical-align: top;\n",
       "    }\n",
       "\n",
       "    .dataframe thead th {\n",
       "        text-align: right;\n",
       "    }\n",
       "</style>\n",
       "<table border=\"1\" class=\"dataframe\">\n",
       "  <thead>\n",
       "    <tr style=\"text-align: right;\">\n",
       "      <th></th>\n",
       "      <th>ALTERSKATEGORIE_GROB</th>\n",
       "      <th>ANREDE_KZ</th>\n",
       "      <th>FINANZ_MINIMALIST</th>\n",
       "      <th>FINANZ_SPARER</th>\n",
       "      <th>FINANZ_VORSORGER</th>\n",
       "      <th>FINANZ_ANLEGER</th>\n",
       "      <th>FINANZ_UNAUFFAELLIGER</th>\n",
       "      <th>FINANZ_HAUSBAUER</th>\n",
       "      <th>GREEN_AVANTGARDE</th>\n",
       "      <th>HEALTH_TYP</th>\n",
       "      <th>...</th>\n",
       "      <th>PLZ8_GBZ</th>\n",
       "      <th>ARBEIT</th>\n",
       "      <th>ORTSGR_KLS9</th>\n",
       "      <th>RELAT_AB</th>\n",
       "      <th>OST_WEST_KZ_O</th>\n",
       "      <th>OST_WEST_KZ_W</th>\n",
       "      <th>DECADE</th>\n",
       "      <th>MOVEMENT</th>\n",
       "      <th>WEALTH</th>\n",
       "      <th>LIFESTAGE</th>\n",
       "    </tr>\n",
       "  </thead>\n",
       "  <tbody>\n",
       "    <tr>\n",
       "      <th>1</th>\n",
       "      <td>-1.766616</td>\n",
       "      <td>0.957933</td>\n",
       "      <td>-1.494605</td>\n",
       "      <td>1.537983</td>\n",
       "      <td>-1.040689</td>\n",
       "      <td>1.466048</td>\n",
       "      <td>0.958818</td>\n",
       "      <td>1.339234</td>\n",
       "      <td>-0.530442</td>\n",
       "      <td>1.096551</td>\n",
       "      <td>...</td>\n",
       "      <td>0.574231</td>\n",
       "      <td>-0.166432</td>\n",
       "      <td>-0.127075</td>\n",
       "      <td>0.684853</td>\n",
       "      <td>-0.517442</td>\n",
       "      <td>0.517442</td>\n",
       "      <td>1.172911</td>\n",
       "      <td>-0.585915</td>\n",
       "      <td>1.186211</td>\n",
       "      <td>-1.266976</td>\n",
       "    </tr>\n",
       "    <tr>\n",
       "      <th>2</th>\n",
       "      <td>0.200529</td>\n",
       "      <td>0.957933</td>\n",
       "      <td>-1.494605</td>\n",
       "      <td>0.864617</td>\n",
       "      <td>-1.766963</td>\n",
       "      <td>-0.570958</td>\n",
       "      <td>0.244259</td>\n",
       "      <td>1.339234</td>\n",
       "      <td>1.885219</td>\n",
       "      <td>1.096551</td>\n",
       "      <td>...</td>\n",
       "      <td>0.574231</td>\n",
       "      <td>-0.166432</td>\n",
       "      <td>-0.127075</td>\n",
       "      <td>-0.789058</td>\n",
       "      <td>-0.517442</td>\n",
       "      <td>0.517442</td>\n",
       "      <td>1.172911</td>\n",
       "      <td>1.706732</td>\n",
       "      <td>-0.868182</td>\n",
       "      <td>0.761271</td>\n",
       "    </tr>\n",
       "    <tr>\n",
       "      <th>3</th>\n",
       "      <td>1.184102</td>\n",
       "      <td>0.957933</td>\n",
       "      <td>0.683156</td>\n",
       "      <td>-0.482116</td>\n",
       "      <td>1.138133</td>\n",
       "      <td>-0.570958</td>\n",
       "      <td>-1.184858</td>\n",
       "      <td>-0.791347</td>\n",
       "      <td>-0.530442</td>\n",
       "      <td>-0.257026</td>\n",
       "      <td>...</td>\n",
       "      <td>0.574231</td>\n",
       "      <td>-1.169962</td>\n",
       "      <td>-0.997594</td>\n",
       "      <td>-0.052103</td>\n",
       "      <td>-0.517442</td>\n",
       "      <td>0.517442</td>\n",
       "      <td>-0.223444</td>\n",
       "      <td>-0.585915</td>\n",
       "      <td>-1.552980</td>\n",
       "      <td>-0.590894</td>\n",
       "    </tr>\n",
       "    <tr>\n",
       "      <th>4</th>\n",
       "      <td>0.200529</td>\n",
       "      <td>-1.043914</td>\n",
       "      <td>0.683156</td>\n",
       "      <td>0.191250</td>\n",
       "      <td>0.411859</td>\n",
       "      <td>-1.249960</td>\n",
       "      <td>0.244259</td>\n",
       "      <td>-0.791347</td>\n",
       "      <td>-0.530442</td>\n",
       "      <td>1.096551</td>\n",
       "      <td>...</td>\n",
       "      <td>-0.337218</td>\n",
       "      <td>0.837098</td>\n",
       "      <td>0.308185</td>\n",
       "      <td>1.421808</td>\n",
       "      <td>-0.517442</td>\n",
       "      <td>0.517442</td>\n",
       "      <td>-0.223444</td>\n",
       "      <td>-0.585915</td>\n",
       "      <td>0.501413</td>\n",
       "      <td>0.085189</td>\n",
       "    </tr>\n",
       "    <tr>\n",
       "      <th>5</th>\n",
       "      <td>-1.766616</td>\n",
       "      <td>0.957933</td>\n",
       "      <td>-0.042764</td>\n",
       "      <td>-1.155482</td>\n",
       "      <td>1.138133</td>\n",
       "      <td>-0.570958</td>\n",
       "      <td>-0.470299</td>\n",
       "      <td>1.339234</td>\n",
       "      <td>-0.530442</td>\n",
       "      <td>1.096551</td>\n",
       "      <td>...</td>\n",
       "      <td>1.485680</td>\n",
       "      <td>-1.169962</td>\n",
       "      <td>-0.997594</td>\n",
       "      <td>-0.052103</td>\n",
       "      <td>-0.517442</td>\n",
       "      <td>0.517442</td>\n",
       "      <td>-1.619800</td>\n",
       "      <td>-0.585915</td>\n",
       "      <td>1.186211</td>\n",
       "      <td>0.761271</td>\n",
       "    </tr>\n",
       "  </tbody>\n",
       "</table>\n",
       "<p>5 rows × 69 columns</p>\n",
       "</div>"
      ],
      "text/plain": [
       "   ALTERSKATEGORIE_GROB  ANREDE_KZ  FINANZ_MINIMALIST  FINANZ_SPARER  \\\n",
       "1             -1.766616   0.957933          -1.494605       1.537983   \n",
       "2              0.200529   0.957933          -1.494605       0.864617   \n",
       "3              1.184102   0.957933           0.683156      -0.482116   \n",
       "4              0.200529  -1.043914           0.683156       0.191250   \n",
       "5             -1.766616   0.957933          -0.042764      -1.155482   \n",
       "\n",
       "   FINANZ_VORSORGER  FINANZ_ANLEGER  FINANZ_UNAUFFAELLIGER  FINANZ_HAUSBAUER  \\\n",
       "1         -1.040689        1.466048               0.958818          1.339234   \n",
       "2         -1.766963       -0.570958               0.244259          1.339234   \n",
       "3          1.138133       -0.570958              -1.184858         -0.791347   \n",
       "4          0.411859       -1.249960               0.244259         -0.791347   \n",
       "5          1.138133       -0.570958              -0.470299          1.339234   \n",
       "\n",
       "   GREEN_AVANTGARDE  HEALTH_TYP    ...      PLZ8_GBZ    ARBEIT  ORTSGR_KLS9  \\\n",
       "1         -0.530442    1.096551    ...      0.574231 -0.166432    -0.127075   \n",
       "2          1.885219    1.096551    ...      0.574231 -0.166432    -0.127075   \n",
       "3         -0.530442   -0.257026    ...      0.574231 -1.169962    -0.997594   \n",
       "4         -0.530442    1.096551    ...     -0.337218  0.837098     0.308185   \n",
       "5         -0.530442    1.096551    ...      1.485680 -1.169962    -0.997594   \n",
       "\n",
       "   RELAT_AB  OST_WEST_KZ_O  OST_WEST_KZ_W    DECADE  MOVEMENT    WEALTH  \\\n",
       "1  0.684853      -0.517442       0.517442  1.172911 -0.585915  1.186211   \n",
       "2 -0.789058      -0.517442       0.517442  1.172911  1.706732 -0.868182   \n",
       "3 -0.052103      -0.517442       0.517442 -0.223444 -0.585915 -1.552980   \n",
       "4  1.421808      -0.517442       0.517442 -0.223444 -0.585915  0.501413   \n",
       "5 -0.052103      -0.517442       0.517442 -1.619800 -0.585915  1.186211   \n",
       "\n",
       "   LIFESTAGE  \n",
       "1  -1.266976  \n",
       "2   0.761271  \n",
       "3  -0.590894  \n",
       "4   0.085189  \n",
       "5   0.761271  \n",
       "\n",
       "[5 rows x 69 columns]"
      ]
     },
     "execution_count": 64,
     "metadata": {},
     "output_type": "execute_result"
    }
   ],
   "source": [
    "azdias_clean.head()"
   ]
  },
  {
   "cell_type": "markdown",
   "metadata": {},
   "source": [
    "### Discussion 2.1: Apply Feature Scaling\n",
    "\n",
    "I used sklearns impute to fill in the missing values. I used the median values in place of NaNs. After the missing values issue has been resolved, I fit the dataframe into the StandardScaler to normalize the dataset."
   ]
  },
  {
   "cell_type": "markdown",
   "metadata": {},
   "source": [
    "### Step 2.2: Perform Dimensionality Reduction\n",
    "\n",
    "On your scaled data, you are now ready to apply dimensionality reduction techniques.\n",
    "\n",
    "- Use sklearn's [PCA](http://scikit-learn.org/stable/modules/generated/sklearn.decomposition.PCA.html) class to apply principal component analysis on the data, thus finding the vectors of maximal variance in the data. To start, you should not set any parameters (so all components are computed) or set a number of components that is at least half the number of features (so there's enough features to see the general trend in variability).\n",
    "- Check out the ratio of variance explained by each principal component as well as the cumulative variance explained. Try plotting the cumulative or sequential values using matplotlib's [`plot()`](https://matplotlib.org/api/_as_gen/matplotlib.pyplot.plot.html) function. Based on what you find, select a value for the number of transformed features you'll retain for the clustering part of the project.\n",
    "- Once you've made a choice for the number of components to keep, make sure you re-fit a PCA instance to perform the decided-on transformation."
   ]
  },
  {
   "cell_type": "code",
   "execution_count": 65,
   "metadata": {},
   "outputs": [],
   "source": [
    "# Apply PCA to the data.\n",
    "pca = PCA()\n",
    "X_pca = pca.fit_transform(azdias_clean)\n"
   ]
  },
  {
   "cell_type": "code",
   "execution_count": 66,
   "metadata": {},
   "outputs": [],
   "source": [
    "# Investigate the variance accounted for by each principal component.\n",
    "# function from the classroom's helper functions\n",
    "\n",
    "def scree_plot(pca):\n",
    "    '''\n",
    "    Creates a scree plot associated with the principal components \n",
    "    \n",
    "    INPUT: pca - the result of instantian of PCA in scikit learn\n",
    "            \n",
    "    OUTPUT:\n",
    "            None\n",
    "    '''\n",
    "    num_components=len(pca.explained_variance_ratio_)\n",
    "    ind = np.arange(num_components)\n",
    "    vals = pca.explained_variance_ratio_\n",
    " \n",
    "    plt.figure(figsize=(10, 6))\n",
    "    ax = plt.subplot(111)\n",
    "    cumvals = np.cumsum(vals)\n",
    "    ax.bar(ind, vals)\n",
    "    ax.plot(ind, cumvals)\n",
    "    for i in range(num_components):\n",
    "        ax.annotate(r\"%s%%\" % ((str(vals[i]*100)[:4])), (ind[i]+0.2, vals[i]), va=\"bottom\", ha=\"center\", fontsize=12)\n",
    " \n",
    "    ax.xaxis.set_tick_params(width=0)\n",
    "    ax.yaxis.set_tick_params(width=2, length=12)\n",
    " \n",
    "    ax.set_xlabel(\"Principal Component\")\n",
    "    ax.set_ylabel(\"Variance Explained (%)\")\n",
    "    plt.title('Explained Variance Per Principal Component')\n",
    "\n"
   ]
  },
  {
   "cell_type": "code",
   "execution_count": 67,
   "metadata": {},
   "outputs": [
    {
     "data": {
      "image/png": "[encoded data removed]",
      "text/plain": [
       "<matplotlib.figure.Figure at 0x7f3c4c532dd8>"
      ]
     },
     "metadata": {
      "needs_background": "light"
     },
     "output_type": "display_data"
    }
   ],
   "source": [
    "scree_plot(pca)"
   ]
  },
  {
   "cell_type": "code",
   "execution_count": 68,
   "metadata": {},
   "outputs": [],
   "source": [
    "n_components = [20, 30, 35, 40, 50]\n",
    "for n in n_components:\n",
    "    pca = PCA(n)\n",
    "    X_pca = pca.fit_transform(azdias_clean)\n",
    "    if pca.explained_variance_ratio_.sum() >= .85:\n",
    "        break"
   ]
  },
  {
   "cell_type": "code",
   "execution_count": 69,
   "metadata": {},
   "outputs": [
    {
     "name": "stdout",
     "output_type": "stream",
     "text": [
      "30\n"
     ]
    }
   ],
   "source": [
    "print(pca.n_components)"
   ]
  },
  {
   "cell_type": "code",
   "execution_count": 70,
   "metadata": {},
   "outputs": [],
   "source": [
    "# Re-apply PCA to the data while selecting for number of components to retain.\n",
    "pca = PCA(n_components=30)\n",
    "X_pca = pca.fit_transform(azdias_clean)\n"
   ]
  },
  {
   "cell_type": "code",
   "execution_count": 71,
   "metadata": {},
   "outputs": [
    {
     "data": {
      "text/plain": [
       "0.87333598691817471"
      ]
     },
     "execution_count": 71,
     "metadata": {},
     "output_type": "execute_result"
    }
   ],
   "source": [
    "pca.explained_variance_ratio_.sum()"
   ]
  },
  {
   "cell_type": "code",
   "execution_count": 72,
   "metadata": {},
   "outputs": [
    {
     "data": {
      "image/png": "[encoded data removed]",
      "text/plain": [
       "<matplotlib.figure.Figure at 0x7f3c4c7237f0>"
      ]
     },
     "metadata": {
      "needs_background": "light"
     },
     "output_type": "display_data"
    }
   ],
   "source": [
    "scree_plot(pca)"
   ]
  },
  {
   "cell_type": "markdown",
   "metadata": {},
   "source": [
    "### Discussion 2.2: Perform Dimensionality Reduction\n",
    "After normalizing the dataset I then fit it on the PCA. What PCA does is reduce the dimensions of the data by filtering out noisy data, improving its interpretability while at the same time minimizing information loss. I could use the entire data for our model but its computationaly expensive. After the PCA, the results show that we can use just 30 while still retaining 87% accuracy."
   ]
  },
  {
   "cell_type": "markdown",
   "metadata": {},
   "source": [
    "### Step 2.3: Interpret Principal Components\n",
    "\n",
    "Now that we have our transformed principal components, it's a nice idea to check out the weight of each variable on the first few components to see if they can be interpreted in some fashion.\n",
    "\n",
    "As a reminder, each principal component is a unit vector that points in the direction of highest variance (after accounting for the variance captured by earlier principal components). The further a weight is from zero, the more the principal component is in the direction of the corresponding feature. If two features have large weights of the same sign (both positive or both negative), then increases in one tend expect to be associated with increases in the other. To contrast, features with different signs can be expected to show a negative correlation: increases in one variable should result in a decrease in the other.\n",
    "\n",
    "- To investigate the features, you should map each weight to their corresponding feature name, then sort the features according to weight. The most interesting features for each principal component, then, will be those at the beginning and end of the sorted list. Use the data dictionary document to help you understand these most prominent features, their relationships, and what a positive or negative value on the principal component might indicate.\n",
    "- You should investigate and interpret feature associations from the first three principal components in this substep. To help facilitate this, you should write a function that you can call at any time to print the sorted list of feature weights, for the *i*-th principal component. This might come in handy in the next step of the project, when you interpret the tendencies of the discovered clusters."
   ]
  },
  {
   "cell_type": "code",
   "execution_count": 73,
   "metadata": {},
   "outputs": [],
   "source": [
    "# Map weights for the first principal component to corresponding feature names\n",
    "# and then print the linked values, sorted by weight.\n",
    "# HINT: Try defining a function here or in a new cell that you can reuse in the\n",
    "# other cells.\n",
    "def get_weights(df, n):\n",
    "    components = pd.DataFrame(pca.components_,columns=list(df.columns)).iloc[n]\n",
    "    top_5 = components.sort_values(ascending=False).head()\n",
    "    bot_5 = components.sort_values(ascending=False).tail()\n",
    "    comp = pd.concat([top_5, bot_5], axis=0, sort=True)\n",
    "    comp.plot(kind='bar', title='Component ')\n",
    "    ax = plt.gca()\n",
    "    ax.grid(linewidth='0.5', alpha=0.5)\n",
    "    ax.set_axisbelow(True)\n",
    "    plt.show()\n",
    "    return comp"
   ]
  },
  {
   "cell_type": "code",
   "execution_count": 74,
   "metadata": {},
   "outputs": [
    {
     "data": {
      "image/png": "[encoded data removed]",
      "text/plain": [
       "<matplotlib.figure.Figure at 0x7f3c4c43fef0>"
      ]
     },
     "metadata": {
      "needs_background": "light"
     },
     "output_type": "display_data"
    },
    {
     "data": {
      "text/plain": [
       "ALTERSKATEGORIE_GROB    0.272363\n",
       "FINANZ_VORSORGER        0.244347\n",
       "SEMIO_ERL               0.235592\n",
       "SEMIO_LUST              0.191212\n",
       "RETOURTYP_BK_S          0.164732\n",
       "SEMIO_PFLICHT          -0.239908\n",
       "SEMIO_TRADV            -0.240056\n",
       "FINANZ_SPARER          -0.251995\n",
       "DECADE                 -0.262249\n",
       "SEMIO_REL              -0.264471\n",
       "Name: 1, dtype: float64"
      ]
     },
     "execution_count": 74,
     "metadata": {},
     "output_type": "execute_result"
    }
   ],
   "source": [
    "get_weights(azdias_clean, 1)"
   ]
  },
  {
   "cell_type": "code",
   "execution_count": 75,
   "metadata": {},
   "outputs": [
    {
     "data": {
      "image/png": "[encoded data removed]",
      "text/plain": [
       "<matplotlib.figure.Figure at 0x7f3c4c59df60>"
      ]
     },
     "metadata": {
      "needs_background": "light"
     },
     "output_type": "display_data"
    },
    {
     "data": {
      "text/plain": [
       "SEMIO_VERT           0.346976\n",
       "SEMIO_SOZ            0.262238\n",
       "SEMIO_FAM            0.250262\n",
       "SEMIO_KULT           0.236237\n",
       "FINANZ_MINIMALIST    0.161374\n",
       "SEMIO_RAT           -0.217227\n",
       "SEMIO_KRIT          -0.277855\n",
       "SEMIO_DOM           -0.315280\n",
       "SEMIO_KAEM          -0.339199\n",
       "ANREDE_KZ           -0.369545\n",
       "Name: 2, dtype: float64"
      ]
     },
     "execution_count": 75,
     "metadata": {},
     "output_type": "execute_result"
    }
   ],
   "source": [
    "# Map weights for the second principal component to corresponding feature names\n",
    "# and then print the linked values, sorted by weight.\n",
    "get_weights(azdias_clean, 2)\n"
   ]
  },
  {
   "cell_type": "code",
   "execution_count": 76,
   "metadata": {
    "scrolled": true
   },
   "outputs": [
    {
     "data": {
      "image/png": "[encoded data removed]",
      "text/plain": [
       "<matplotlib.figure.Figure at 0x7f3c4c4cd7f0>"
      ]
     },
     "metadata": {
      "needs_background": "light"
     },
     "output_type": "display_data"
    },
    {
     "data": {
      "text/plain": [
       "GREEN_AVANTGARDE       0.344631\n",
       "MOVEMENT               0.328172\n",
       "EWDICHTE               0.255839\n",
       "ORTSGR_KLS9            0.246659\n",
       "LP_LEBENSPHASE_FEIN    0.201574\n",
       "INNENSTADT            -0.203283\n",
       "KKK                   -0.207915\n",
       "BALLRAUM              -0.216398\n",
       "HH_EINKOMMEN_SCORE    -0.218342\n",
       "WOHNLAGE              -0.264977\n",
       "Name: 3, dtype: float64"
      ]
     },
     "execution_count": 76,
     "metadata": {},
     "output_type": "execute_result"
    }
   ],
   "source": [
    "# Map weights for the third principal component to corresponding feature names\n",
    "# and then print the linked values, sorted by weight.\n",
    "get_weights(azdias_clean, 3)\n"
   ]
  },
  {
   "cell_type": "markdown",
   "metadata": {},
   "source": [
    "### Discussion 2.3: Interpret Principal Components\n",
    "\n",
    "(Double-click this cell and replace this text with your own text, reporting your observations from detailed investigation of the first few principal components generated. Can we interpret positive and negative values from them in a meaningful way?)\n",
    "\n",
    "Observations from first principal component:\n",
    "- The feature are shown to have a positive effect: \n",
    "        - age \n",
    "        - financial typology, like being prepared or I would say someone thatis not rich nor poor?\n",
    "        - personality typology(event oriented, sensual oriented) \n",
    "        - shopping habits.\n",
    "- The features are shown to have a negative effect:\n",
    "        - have dutiful personality, traditional minded\n",
    "        - money saver\n",
    "        - age, older people\n",
    "        - neighborhood quality\n",
    "        \n",
    "Observations from second principal component:\n",
    "- These features are shown to have a positive effect:\n",
    "        - people that have these personalities (dreamful, socially minded, family minded, cultural minded)\n",
    "        - low financial interest, I guess the people that have no money?\n",
    "- These features are shown to have a negative effect:\n",
    "        - people that have these personalities (rational, critical minded, dominant minded, combative attitude)\n",
    "        - gender\n",
    "        \n",
    "Observations from the third principal component:\n",
    "- These features are shown to have a positive effect:\n",
    "        - people that are in environmental sustainability of youth movement\n",
    "        - density of household per sq.km.\n",
    "        - size of the community\n",
    "- These features are shown to have a negative effect:\n",
    "        - distance to city center\n",
    "        - purchasing power in the region\n",
    "        - distance to nearest urban center\n",
    "        - estimated household income\n",
    "        - neighborhood quality.\n",
    "        \n",
    "To summarize the first principal component are comprised of features how an individual value their money and how it affects them. The second is mostly about an individual's personality and the third is mostly about the area of where the individual tends to skew their bias."
   ]
  },
  {
   "cell_type": "markdown",
   "metadata": {},
   "source": [
    "## Step 3: Clustering\n",
    "\n",
    "### Step 3.1: Apply Clustering to General Population\n",
    "\n",
    "You've assessed and cleaned the demographics data, then scaled and transformed them. Now, it's time to see how the data clusters in the principal components space. In this substep, you will apply k-means clustering to the dataset and use the average within-cluster distances from each point to their assigned cluster's centroid to decide on a number of clusters to keep.\n",
    "\n",
    "- Use sklearn's [KMeans](http://scikit-learn.org/stable/modules/generated/sklearn.cluster.KMeans.html#sklearn.cluster.KMeans) class to perform k-means clustering on the PCA-transformed data.\n",
    "- Then, compute the average difference from each point to its assigned cluster's center. **Hint**: The KMeans object's `.score()` method might be useful here, but note that in sklearn, scores tend to be defined so that larger is better. Try applying it to a small, toy dataset, or use an internet search to help your understanding.\n",
    "- Perform the above two steps for a number of different cluster counts. You can then see how the average distance decreases with an increasing number of clusters. However, each additional cluster provides a smaller net benefit. Use this fact to select a final number of clusters in which to group the data. **Warning**: because of the large size of the dataset, it can take a long time for the algorithm to resolve. The more clusters to fit, the longer the algorithm will take. You should test for cluster counts through at least 10 clusters to get the full picture, but you shouldn't need to test for a number of clusters above about 30.\n",
    "- Once you've selected a final number of clusters to use, re-fit a KMeans instance to perform the clustering operation. Make sure that you also obtain the cluster assignments for the general demographics data, since you'll be using them in the final Step 3.3."
   ]
  },
  {
   "cell_type": "code",
   "execution_count": 77,
   "metadata": {},
   "outputs": [],
   "source": [
    "# from the classroom's helper functions\n",
    "\n",
    "def get_kmeans_score(data, center):\n",
    "    '''\n",
    "    returns the kmeans score regarding SSE for points to centers\n",
    "    INPUT:\n",
    "        data - the dataset you want to fit kmeans to\n",
    "        center - the number of centers you want (the k value)\n",
    "    OUTPUT:\n",
    "        score - the SSE score for the kmeans model fit to the data\n",
    "    '''\n",
    "    #instantiate kmeans\n",
    "    kmeans = MiniBatchKMeans(n_clusters=center)\n",
    "\n",
    "    # Then fit the model to your data using the fit method\n",
    "    model = kmeans.fit(data)\n",
    "\n",
    "    # Obtain a score related to the model fit\n",
    "    score = np.abs(model.score(data))\n",
    "\n",
    "    return score\n"
   ]
  },
  {
   "cell_type": "code",
   "execution_count": 78,
   "metadata": {},
   "outputs": [],
   "source": [
    "# Over a number of different cluster counts, run k-means clustering on the data and compute the average within-cluster distances.\n",
    "\n",
    "center = [8, 10, 12, 14, 16]\n",
    "score = []\n",
    "\n",
    "for n in center:\n",
    "    score.append(get_kmeans_score(X_pca,n))\n",
    "    \n",
    "    "
   ]
  },
  {
   "cell_type": "code",
   "execution_count": 79,
   "metadata": {},
   "outputs": [
    {
     "data": {
      "image/png": "[encoded data removed]",
      "text/plain": [
       "<matplotlib.figure.Figure at 0x7f3c5032a0f0>"
      ]
     },
     "metadata": {
      "needs_background": "light"
     },
     "output_type": "display_data"
    }
   ],
   "source": [
    "# Investigate the change in within-cluster distance across number of clusters.\n",
    "# HINT: Use matplotlib's plot function to visualize this relationship.\n",
    "plt.plot(center, score, linestyle='--', marker='o', color='b');\n",
    "plt.xlabel('K');\n",
    "plt.ylabel('Score');\n",
    "plt.title('Score vs. Number of clusters');\n"
   ]
  },
  {
   "cell_type": "code",
   "execution_count": 80,
   "metadata": {},
   "outputs": [],
   "source": [
    "# Re-fit the k-means model with the selected number of clusters and obtain cluster predictions for the general population demographics data.\n",
    "# I am going to use 14 as the \"elbow\"\n",
    "kmeans_14 = MiniBatchKMeans(n_clusters=14)\n",
    "model_14 = kmeans_14.fit(X_pca)\n",
    "model_preds = model_14.predict(X_pca)\n"
   ]
  },
  {
   "cell_type": "markdown",
   "metadata": {},
   "source": [
    "### Discussion 3.1: Apply Clustering to General Population\n",
    "\n",
    "After running the kmeans score, I determined to use 14 clusters for the model. As shown in the image above, increasing the cluster from 14 to 15 and above doesn't affect the kmeans score that much."
   ]
  },
  {
   "cell_type": "markdown",
   "metadata": {},
   "source": [
    "### Step 3.2: Apply All Steps to the Customer Data\n",
    "\n",
    "Now that you have clusters and cluster centers for the general population, it's time to see how the customer data maps on to those clusters. Take care to not confuse this for re-fitting all of the models to the customer data. Instead, you're going to use the fits from the general population to clean, transform, and cluster the customer data. In the last step of the project, you will interpret how the general population fits apply to the customer data.\n",
    "\n",
    "- Don't forget when loading in the customers data, that it is semicolon (`;`) delimited.\n",
    "- Apply the same feature wrangling, selection, and engineering steps to the customer demographics using the `clean_data()` function you created earlier. (You can assume that the customer demographics data has similar meaning behind missing data patterns as the general demographics data.)\n",
    "- Use the sklearn objects from the general demographics data, and apply their transformations to the customers data. That is, you should not be using a `.fit()` or `.fit_transform()` method to re-fit the old objects, nor should you be creating new sklearn objects! Carry the data through the feature scaling, PCA, and clustering steps, obtaining cluster assignments for all of the data in the customer demographics data."
   ]
  },
  {
   "cell_type": "code",
   "execution_count": 98,
   "metadata": {},
   "outputs": [],
   "source": [
    "# Load in the customer demographics data.\n",
    "customers = pd.read_csv('Udacity_CUSTOMERS_Subset.csv', sep=';')"
   ]
  },
  {
   "cell_type": "code",
   "execution_count": 99,
   "metadata": {},
   "outputs": [],
   "source": [
    "customers_clean = clean_data(customers)"
   ]
  },
  {
   "cell_type": "code",
   "execution_count": 100,
   "metadata": {},
   "outputs": [
    {
     "data": {
      "text/plain": [
       "(141642, 75)"
      ]
     },
     "execution_count": 100,
     "metadata": {},
     "output_type": "execute_result"
    }
   ],
   "source": [
    "customers_clean.shape"
   ]
  },
  {
   "cell_type": "code",
   "execution_count": 104,
   "metadata": {},
   "outputs": [],
   "source": [
    "# Since they have different shapes, there must be some columns in customers that are not in azdias_below, so we need to drop them\n",
    "col = customers_clean.columns \n",
    "col_b = azdias_below.columns"
   ]
  },
  {
   "cell_type": "code",
   "execution_count": 111,
   "metadata": {},
   "outputs": [
    {
     "data": {
      "text/plain": [
       "['AGER_TYP',\n",
       " 'ALTER_HH',\n",
       " 'TITEL_KZ',\n",
       " 'KK_KUNDENTYP',\n",
       " 'GEBURTSJAHR',\n",
       " 'KBA05_BAUMAX']"
      ]
     },
     "execution_count": 111,
     "metadata": {},
     "output_type": "execute_result"
    }
   ],
   "source": [
    "missing_col = list(set(col) - set(col_b))\n",
    "missing_col"
   ]
  },
  {
   "cell_type": "code",
   "execution_count": 114,
   "metadata": {},
   "outputs": [],
   "source": [
    "for col in missing_col:\n",
    "    customers_clean.drop(col, axis=1, inplace=True)"
   ]
  },
  {
   "cell_type": "code",
   "execution_count": 115,
   "metadata": {},
   "outputs": [
    {
     "data": {
      "text/plain": [
       "(141642, 69)"
      ]
     },
     "execution_count": 115,
     "metadata": {},
     "output_type": "execute_result"
    }
   ],
   "source": [
    "customers_clean.shape"
   ]
  },
  {
   "cell_type": "code",
   "execution_count": 116,
   "metadata": {},
   "outputs": [
    {
     "data": {
      "text/html": [
       "<div>\n",
       "<style scoped>\n",
       "    .dataframe tbody tr th:only-of-type {\n",
       "        vertical-align: middle;\n",
       "    }\n",
       "\n",
       "    .dataframe tbody tr th {\n",
       "        vertical-align: top;\n",
       "    }\n",
       "\n",
       "    .dataframe thead th {\n",
       "        text-align: right;\n",
       "    }\n",
       "</style>\n",
       "<table border=\"1\" class=\"dataframe\">\n",
       "  <thead>\n",
       "    <tr style=\"text-align: right;\">\n",
       "      <th></th>\n",
       "      <th>ALTERSKATEGORIE_GROB</th>\n",
       "      <th>ANREDE_KZ</th>\n",
       "      <th>FINANZ_MINIMALIST</th>\n",
       "      <th>FINANZ_SPARER</th>\n",
       "      <th>FINANZ_VORSORGER</th>\n",
       "      <th>FINANZ_ANLEGER</th>\n",
       "      <th>FINANZ_UNAUFFAELLIGER</th>\n",
       "      <th>FINANZ_HAUSBAUER</th>\n",
       "      <th>GREEN_AVANTGARDE</th>\n",
       "      <th>HEALTH_TYP</th>\n",
       "      <th>...</th>\n",
       "      <th>PLZ8_GBZ</th>\n",
       "      <th>ARBEIT</th>\n",
       "      <th>ORTSGR_KLS9</th>\n",
       "      <th>RELAT_AB</th>\n",
       "      <th>OST_WEST_KZ_O</th>\n",
       "      <th>OST_WEST_KZ_W</th>\n",
       "      <th>DECADE</th>\n",
       "      <th>MOVEMENT</th>\n",
       "      <th>WEALTH</th>\n",
       "      <th>LIFESTAGE</th>\n",
       "    </tr>\n",
       "  </thead>\n",
       "  <tbody>\n",
       "    <tr>\n",
       "      <th>0</th>\n",
       "      <td>4.0</td>\n",
       "      <td>1</td>\n",
       "      <td>5</td>\n",
       "      <td>1</td>\n",
       "      <td>5</td>\n",
       "      <td>1</td>\n",
       "      <td>2</td>\n",
       "      <td>2</td>\n",
       "      <td>1</td>\n",
       "      <td>1.0</td>\n",
       "      <td>...</td>\n",
       "      <td>5.0</td>\n",
       "      <td>1.0</td>\n",
       "      <td>2.0</td>\n",
       "      <td>1.0</td>\n",
       "      <td>0</td>\n",
       "      <td>1</td>\n",
       "      <td>50.0</td>\n",
       "      <td>1</td>\n",
       "      <td>13</td>\n",
       "      <td>3.0</td>\n",
       "    </tr>\n",
       "    <tr>\n",
       "      <th>2</th>\n",
       "      <td>4.0</td>\n",
       "      <td>2</td>\n",
       "      <td>5</td>\n",
       "      <td>1</td>\n",
       "      <td>5</td>\n",
       "      <td>1</td>\n",
       "      <td>4</td>\n",
       "      <td>4</td>\n",
       "      <td>1</td>\n",
       "      <td>2.0</td>\n",
       "      <td>...</td>\n",
       "      <td>2.0</td>\n",
       "      <td>3.0</td>\n",
       "      <td>5.0</td>\n",
       "      <td>3.0</td>\n",
       "      <td>0</td>\n",
       "      <td>1</td>\n",
       "      <td>50.0</td>\n",
       "      <td>1</td>\n",
       "      <td>34</td>\n",
       "      <td>4.0</td>\n",
       "    </tr>\n",
       "    <tr>\n",
       "      <th>3</th>\n",
       "      <td>4.0</td>\n",
       "      <td>1</td>\n",
       "      <td>5</td>\n",
       "      <td>1</td>\n",
       "      <td>5</td>\n",
       "      <td>2</td>\n",
       "      <td>1</td>\n",
       "      <td>2</td>\n",
       "      <td>0</td>\n",
       "      <td>2.0</td>\n",
       "      <td>...</td>\n",
       "      <td>4.0</td>\n",
       "      <td>1.0</td>\n",
       "      <td>3.0</td>\n",
       "      <td>1.0</td>\n",
       "      <td>0</td>\n",
       "      <td>1</td>\n",
       "      <td>40.0</td>\n",
       "      <td>0</td>\n",
       "      <td>24</td>\n",
       "      <td>4.0</td>\n",
       "    </tr>\n",
       "    <tr>\n",
       "      <th>4</th>\n",
       "      <td>3.0</td>\n",
       "      <td>1</td>\n",
       "      <td>3</td>\n",
       "      <td>1</td>\n",
       "      <td>4</td>\n",
       "      <td>4</td>\n",
       "      <td>5</td>\n",
       "      <td>2</td>\n",
       "      <td>0</td>\n",
       "      <td>3.0</td>\n",
       "      <td>...</td>\n",
       "      <td>3.0</td>\n",
       "      <td>3.0</td>\n",
       "      <td>5.0</td>\n",
       "      <td>1.0</td>\n",
       "      <td>0</td>\n",
       "      <td>1</td>\n",
       "      <td>70.0</td>\n",
       "      <td>0</td>\n",
       "      <td>41</td>\n",
       "      <td>1.0</td>\n",
       "    </tr>\n",
       "    <tr>\n",
       "      <th>5</th>\n",
       "      <td>3.0</td>\n",
       "      <td>1</td>\n",
       "      <td>5</td>\n",
       "      <td>1</td>\n",
       "      <td>5</td>\n",
       "      <td>1</td>\n",
       "      <td>2</td>\n",
       "      <td>3</td>\n",
       "      <td>1</td>\n",
       "      <td>3.0</td>\n",
       "      <td>...</td>\n",
       "      <td>5.0</td>\n",
       "      <td>3.0</td>\n",
       "      <td>7.0</td>\n",
       "      <td>5.0</td>\n",
       "      <td>0</td>\n",
       "      <td>1</td>\n",
       "      <td>50.0</td>\n",
       "      <td>1</td>\n",
       "      <td>34</td>\n",
       "      <td>4.0</td>\n",
       "    </tr>\n",
       "  </tbody>\n",
       "</table>\n",
       "<p>5 rows × 69 columns</p>\n",
       "</div>"
      ],
      "text/plain": [
       "   ALTERSKATEGORIE_GROB  ANREDE_KZ  FINANZ_MINIMALIST  FINANZ_SPARER  \\\n",
       "0                   4.0          1                  5              1   \n",
       "2                   4.0          2                  5              1   \n",
       "3                   4.0          1                  5              1   \n",
       "4                   3.0          1                  3              1   \n",
       "5                   3.0          1                  5              1   \n",
       "\n",
       "   FINANZ_VORSORGER  FINANZ_ANLEGER  FINANZ_UNAUFFAELLIGER  FINANZ_HAUSBAUER  \\\n",
       "0                 5               1                      2                 2   \n",
       "2                 5               1                      4                 4   \n",
       "3                 5               2                      1                 2   \n",
       "4                 4               4                      5                 2   \n",
       "5                 5               1                      2                 3   \n",
       "\n",
       "   GREEN_AVANTGARDE  HEALTH_TYP    ...      PLZ8_GBZ  ARBEIT  ORTSGR_KLS9  \\\n",
       "0                 1         1.0    ...           5.0     1.0          2.0   \n",
       "2                 1         2.0    ...           2.0     3.0          5.0   \n",
       "3                 0         2.0    ...           4.0     1.0          3.0   \n",
       "4                 0         3.0    ...           3.0     3.0          5.0   \n",
       "5                 1         3.0    ...           5.0     3.0          7.0   \n",
       "\n",
       "   RELAT_AB  OST_WEST_KZ_O  OST_WEST_KZ_W  DECADE  MOVEMENT  WEALTH  LIFESTAGE  \n",
       "0       1.0              0              1    50.0         1      13        3.0  \n",
       "2       3.0              0              1    50.0         1      34        4.0  \n",
       "3       1.0              0              1    40.0         0      24        4.0  \n",
       "4       1.0              0              1    70.0         0      41        1.0  \n",
       "5       5.0              0              1    50.0         1      34        4.0  \n",
       "\n",
       "[5 rows x 69 columns]"
      ]
     },
     "execution_count": 116,
     "metadata": {},
     "output_type": "execute_result"
    }
   ],
   "source": [
    "customers_clean.head()"
   ]
  },
  {
   "cell_type": "code",
   "execution_count": 117,
   "metadata": {},
   "outputs": [
    {
     "data": {
      "text/plain": [
       "123816"
      ]
     },
     "execution_count": 117,
     "metadata": {},
     "output_type": "execute_result"
    }
   ],
   "source": [
    "customers_clean.isna().sum().sum()"
   ]
  },
  {
   "cell_type": "code",
   "execution_count": 118,
   "metadata": {},
   "outputs": [],
   "source": [
    "# Apply preprocessing, feature transformation, and clustering from the general\n",
    "# demographics onto the customer data, obtaining cluster predictions for the\n",
    "# customer demographics data.\n",
    "\n",
    "# Using impute\n",
    "customers_imp = pd.DataFrame(df_imp.transform(customers_clean))\n",
    "\n",
    "# Using scaler\n",
    "customers_scaled = pd.DataFrame(scaler.transform(customers_imp))"
   ]
  },
  {
   "cell_type": "code",
   "execution_count": 119,
   "metadata": {},
   "outputs": [],
   "source": [
    "# Restoring columns and index\n",
    "customers_scaled.columns = customers_clean.columns\n",
    "customers_scaled.index = customers_clean.index\n"
   ]
  },
  {
   "cell_type": "code",
   "execution_count": 120,
   "metadata": {},
   "outputs": [],
   "source": [
    "# Applying the same PCA to customers data\n",
    "\n",
    "customers_pca = pca.transform(customers_scaled)"
   ]
  },
  {
   "cell_type": "code",
   "execution_count": 121,
   "metadata": {},
   "outputs": [],
   "source": [
    "# Clustering the customers\n",
    "customers_preds = model_14.predict(customers_pca)"
   ]
  },
  {
   "cell_type": "markdown",
   "metadata": {},
   "source": [
    "### Step 3.3: Compare Customer Data to Demographics Data\n",
    "\n",
    "At this point, you have clustered data based on demographics of the general population of Germany, and seen how the customer data for a mail-order sales company maps onto those demographic clusters. In this final substep, you will compare the two cluster distributions to see where the strongest customer base for the company is.\n",
    "\n",
    "Consider the proportion of persons in each cluster for the general population, and the proportions for the customers. If we think the company's customer base to be universal, then the cluster assignment proportions should be fairly similar between the two. If there are only particular segments of the population that are interested in the company's products, then we should see a mismatch from one to the other. If there is a higher proportion of persons in a cluster for the customer data compared to the general population (e.g. 5% of persons are assigned to a cluster for the general population, but 15% of the customer data is closest to that cluster's centroid) then that suggests the people in that cluster to be a target audience for the company. On the other hand, the proportion of the data in a cluster being larger in the general population than the customer data (e.g. only 2% of customers closest to a population centroid that captures 6% of the data) suggests that group of persons to be outside of the target demographics.\n",
    "\n",
    "Take a look at the following points in this step:\n",
    "\n",
    "- Compute the proportion of data points in each cluster for the general population and the customer data. Visualizations will be useful here: both for the individual dataset proportions, but also to visualize the ratios in cluster representation between groups. Seaborn's [`countplot()`](https://seaborn.pydata.org/generated/seaborn.countplot.html) or [`barplot()`](https://seaborn.pydata.org/generated/seaborn.barplot.html) function could be handy.\n",
    "  - Recall the analysis you performed in step 1.1.3 of the project, where you separated out certain data points from the dataset if they had more than a specified threshold of missing values. If you found that this group was qualitatively different from the main bulk of the data, you should treat this as an additional data cluster in this analysis. Make sure that you account for the number of data points in this subset, for both the general population and customer datasets, when making your computations!\n",
    "- Which cluster or clusters are overrepresented in the customer dataset compared to the general population? Select at least one such cluster and infer what kind of people might be represented by that cluster. Use the principal component interpretations from step 2.3 or look at additional components to help you make this inference. Alternatively, you can use the `.inverse_transform()` method of the PCA and StandardScaler objects to transform centroids back to the original data space and interpret the retrieved values directly.\n",
    "- Perform a similar investigation for the underrepresented clusters. Which cluster or clusters are underrepresented in the customer dataset compared to the general population, and what kinds of people are typified by these clusters?"
   ]
  },
  {
   "cell_type": "code",
   "execution_count": 122,
   "metadata": {},
   "outputs": [],
   "source": [
    "customers_preds = pd.DataFrame(customers_preds, columns=['C_Preds'])"
   ]
  },
  {
   "cell_type": "code",
   "execution_count": 123,
   "metadata": {},
   "outputs": [],
   "source": [
    "model_preds = pd.DataFrame(model_preds, columns=['M_Preds'])"
   ]
  },
  {
   "cell_type": "code",
   "execution_count": 124,
   "metadata": {
    "scrolled": true
   },
   "outputs": [
    {
     "data": {
      "image/png": "[encoded data removed]",
      "text/plain": [
       "<matplotlib.figure.Figure at 0x7f3c4c161978>"
      ]
     },
     "metadata": {
      "needs_background": "light"
     },
     "output_type": "display_data"
    }
   ],
   "source": [
    "# Compare the proportion of data in each cluster for the customer data to the\n",
    "# proportion of data in each cluster for the general population.\n",
    "\n",
    "model_prop = []\n",
    "customers_prop = []\n",
    "x = [i for i in range(14)]\n",
    "for i in range(14):\n",
    "    customers_prop = customers_preds['C_Preds'].value_counts().sort_index()/ sum(customers_preds['C_Preds'].value_counts())\n",
    "    model_prop = model_preds['M_Preds'].value_counts().sort_index()/ sum(model_preds['M_Preds'].value_counts())\n",
    "\n",
    "\n",
    "df_props = pd.DataFrame({'cluster' : x, 'model_prop' : model_prop, 'customers_prop':customers_prop})\n",
    "df_props.plot(x='cluster', y = ['model_prop', 'customers_prop'], kind='bar', figsize=(9,6))\n",
    "plt.ylabel('proportion of persons in each cluster')\n",
    "plt.show()\n"
   ]
  },
  {
   "cell_type": "code",
   "execution_count": 167,
   "metadata": {},
   "outputs": [
    {
     "data": {
      "text/plain": [
       "ALTERSKATEGORIE_GROB       3.0\n",
       "ANREDE_KZ                  1.0\n",
       "FINANZ_MINIMALIST          3.0\n",
       "FINANZ_SPARER              2.0\n",
       "FINANZ_VORSORGER           4.0\n",
       "FINANZ_ANLEGER             2.0\n",
       "FINANZ_UNAUFFAELLIGER      2.0\n",
       "FINANZ_HAUSBAUER           3.0\n",
       "GREEN_AVANTGARDE           0.0\n",
       "HEALTH_TYP                 2.0\n",
       "LP_LEBENSPHASE_FEIN       13.0\n",
       "LP_LEBENSPHASE_GROB        4.0\n",
       "RETOURTYP_BK_S             4.0\n",
       "SEMIO_SOZ                  5.0\n",
       "SEMIO_FAM                  5.0\n",
       "SEMIO_REL                  4.0\n",
       "SEMIO_MAT                  4.0\n",
       "SEMIO_VERT                 6.0\n",
       "SEMIO_LUST                 5.0\n",
       "SEMIO_ERL                  4.0\n",
       "SEMIO_KULT                 5.0\n",
       "SEMIO_RAT                  3.0\n",
       "SEMIO_KRIT                 4.0\n",
       "SEMIO_DOM                  3.0\n",
       "SEMIO_KAEM                 3.0\n",
       "SEMIO_PFLICHT              3.0\n",
       "SEMIO_TRADV                3.0\n",
       "SOHO_KZ                   -0.0\n",
       "VERS_TYP                   2.0\n",
       "ANZ_PERSONEN               1.0\n",
       "                         ...  \n",
       "KBA05_ANTG1                1.0\n",
       "KBA05_ANTG2                2.0\n",
       "KBA05_ANTG3                1.0\n",
       "KBA05_ANTG4                0.0\n",
       "KBA05_GBZ                  3.0\n",
       "BALLRAUM                   4.0\n",
       "EWDICHTE                   5.0\n",
       "INNENSTADT                 4.0\n",
       "GEBAEUDETYP_RASTER         4.0\n",
       "KKK                        3.0\n",
       "MOBI_REGIO                 2.0\n",
       "ONLINE_AFFINITAET          2.0\n",
       "REGIOTYP                   5.0\n",
       "KBA13_ANZAHL_PKW         619.0\n",
       "PLZ8_ANTG1                 2.0\n",
       "PLZ8_ANTG2                 3.0\n",
       "PLZ8_ANTG3                 2.0\n",
       "PLZ8_ANTG4                 1.0\n",
       "PLZ8_BAUMAX                2.0\n",
       "PLZ8_HHZ                   4.0\n",
       "PLZ8_GBZ                   3.0\n",
       "ARBEIT                     3.0\n",
       "ORTSGR_KLS9                6.0\n",
       "RELAT_AB                   4.0\n",
       "OST_WEST_KZ_O              0.0\n",
       "OST_WEST_KZ_W              1.0\n",
       "DECADE                    65.0\n",
       "MOVEMENT                   0.0\n",
       "WEALTH                     4.0\n",
       "LIFESTAGE                  3.0\n",
       "Length: 69, dtype: float64"
      ]
     },
     "execution_count": 167,
     "metadata": {},
     "output_type": "execute_result"
    }
   ],
   "source": [
    "# What kinds of people are part of a cluster that is overrepresented in the customer data compared to the general population?\n",
    "# I picked cluster 12 since customers_prop is greater than model_prop on that cluster\n",
    "cluster12 = scaler.inverse_transform(pca.inverse_transform(kmeans_14.cluster_centers_[12])).round()\n",
    "over_rep = pd.Series(data=cluster12, index=customers_clean.columns)\n",
    "over_rep"
   ]
  },
  {
   "cell_type": "code",
   "execution_count": 169,
   "metadata": {
    "scrolled": true
   },
   "outputs": [
    {
     "data": {
      "text/plain": [
       "ALTERSKATEGORIE_GROB       2.0\n",
       "ANREDE_KZ                  2.0\n",
       "FINANZ_MINIMALIST          2.0\n",
       "FINANZ_SPARER              4.0\n",
       "FINANZ_VORSORGER           2.0\n",
       "FINANZ_ANLEGER             5.0\n",
       "FINANZ_UNAUFFAELLIGER      4.0\n",
       "FINANZ_HAUSBAUER           3.0\n",
       "GREEN_AVANTGARDE           0.0\n",
       "HEALTH_TYP                 2.0\n",
       "LP_LEBENSPHASE_FEIN       15.0\n",
       "LP_LEBENSPHASE_GROB        5.0\n",
       "RETOURTYP_BK_S             3.0\n",
       "SEMIO_SOZ                  3.0\n",
       "SEMIO_FAM                  4.0\n",
       "SEMIO_REL                  5.0\n",
       "SEMIO_MAT                  5.0\n",
       "SEMIO_VERT                 2.0\n",
       "SEMIO_LUST                 3.0\n",
       "SEMIO_ERL                  4.0\n",
       "SEMIO_KULT                 4.0\n",
       "SEMIO_RAT                  6.0\n",
       "SEMIO_KRIT                 5.0\n",
       "SEMIO_DOM                  6.0\n",
       "SEMIO_KAEM                 6.0\n",
       "SEMIO_PFLICHT              6.0\n",
       "SEMIO_TRADV                6.0\n",
       "SOHO_KZ                    0.0\n",
       "VERS_TYP                   1.0\n",
       "ANZ_PERSONEN               2.0\n",
       "                         ...  \n",
       "KBA05_ANTG1                2.0\n",
       "KBA05_ANTG2                1.0\n",
       "KBA05_ANTG3                0.0\n",
       "KBA05_ANTG4                0.0\n",
       "KBA05_GBZ                  4.0\n",
       "BALLRAUM                   5.0\n",
       "EWDICHTE                   3.0\n",
       "INNENSTADT                 5.0\n",
       "GEBAEUDETYP_RASTER         4.0\n",
       "KKK                        3.0\n",
       "MOBI_REGIO                 4.0\n",
       "ONLINE_AFFINITAET          3.0\n",
       "REGIOTYP                   4.0\n",
       "KBA13_ANZAHL_PKW         699.0\n",
       "PLZ8_ANTG1                 3.0\n",
       "PLZ8_ANTG2                 2.0\n",
       "PLZ8_ANTG3                 1.0\n",
       "PLZ8_ANTG4                 0.0\n",
       "PLZ8_BAUMAX                1.0\n",
       "PLZ8_HHZ                   4.0\n",
       "PLZ8_GBZ                   4.0\n",
       "ARBEIT                     3.0\n",
       "ORTSGR_KLS9                4.0\n",
       "RELAT_AB                   3.0\n",
       "OST_WEST_KZ_O              0.0\n",
       "OST_WEST_KZ_W              1.0\n",
       "DECADE                    86.0\n",
       "MOVEMENT                   0.0\n",
       "WEALTH                     3.0\n",
       "LIFESTAGE                  3.0\n",
       "Length: 69, dtype: float64"
      ]
     },
     "execution_count": 169,
     "metadata": {},
     "output_type": "execute_result"
    }
   ],
   "source": [
    "# What kinds of people are part of a cluster that is underrepresented in the customer data compared to the general population?\n",
    "# I picked cluster 7 since model_prop is greater than customer_prop on that cluster\n",
    "cluster7 = scaler.inverse_transform(pca.inverse_transform(kmeans_14.cluster_centers_[7])).round()\n",
    "under_rep = pd.Series(data=cluster7, index=customers_clean.columns)\n",
    "under_rep\n"
   ]
  },
  {
   "cell_type": "markdown",
   "metadata": {},
   "source": [
    "### Discussion 3.3: Compare Customer Data to Demographics Data\n",
    "\n",
    "In this section I did the following steps:\n",
    "- clean the customers dataset\n",
    "- used impute on the cleand dataset\n",
    "- scaled and transformed the dataset\n",
    "- used .predict on the dataset.\n",
    "\n",
    "Looking at the data, you can see that in clusters 6,11 and 12 are being overrepresented. Clusters 1,7 and 10 are being underrepresented. I investegated cluster 12 and 7 and checked what represents those group. For cluster 12, they are mainly born in the 60's, less afluent and belong to families with school age children, most of them are rational, single top earners of higher age. On the other hand cluster 7 is comprised of people born in the 80's, comfortable in life and belong to families with school age children, most of them are dreamful, low-income earner couples of higher age."
   ]
  },
  {
   "cell_type": "markdown",
   "metadata": {},
   "source": [
    "> Congratulations on making it this far in the project! Before you finish, make sure to check through the entire notebook from top to bottom to make sure that your analysis follows a logical flow and all of your findings are documented in **Discussion** cells. Once you've checked over all of your work, you should export the notebook as an HTML document to submit for evaluation. You can do this from the menu, navigating to **File -> Download as -> HTML (.html)**. You will submit both that document and this notebook for your project submission."
   ]
  },
  {
   "cell_type": "code",
   "execution_count": null,
   "metadata": {},
   "outputs": [],
   "source": []
  }
 ],
 "metadata": {
  "kernelspec": {
   "display_name": "Python 3",
   "language": "python",
   "name": "python3"
  },
  "language_info": {
   "codemirror_mode": {
    "name": "ipython",
    "version": 3
   },
   "file_extension": ".py",
   "mimetype": "text/x-python",
   "name": "python",
   "nbconvert_exporter": "python",
   "pygments_lexer": "ipython3",
   "version": "3.6.3"
  }
 },
 "nbformat": 4,
 "nbformat_minor": 2
}
